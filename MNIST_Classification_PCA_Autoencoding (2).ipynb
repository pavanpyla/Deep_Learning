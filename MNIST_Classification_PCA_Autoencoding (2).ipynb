{
  "nbformat": 4,
  "nbformat_minor": 0,
  "metadata": {
    "colab": {
      "provenance": [],
      "gpuType": "T4"
    },
    "kernelspec": {
      "name": "python3",
      "display_name": "Python 3"
    },
    "language_info": {
      "name": "python"
    },
    "accelerator": "GPU"
  },
  "cells": [
    {
      "cell_type": "code",
      "execution_count": null,
      "metadata": {
        "id": "Us14dCvHgNGD"
      },
      "outputs": [],
      "source": [
        "\n",
        "import torch\n",
        "import torch.nn as nn\n",
        "import torchvision\n",
        "import torchvision.transforms as transforms\n",
        "import matplotlib.pyplot as plt\n",
        "import torch\n",
        "from torch.utils.data import Dataset\n",
        "from torchvision import datasets\n",
        "from torchvision.transforms import ToTensor\n",
        "import matplotlib.pyplot as plt\n",
        "from torch import nn\n",
        "from torch.utils.data import DataLoader\n",
        "from torchvision import datasets, transforms\n",
        "import pandas as pd\n"
      ]
    },
    {
      "cell_type": "code",
      "source": [
        "from google.colab import drive\n",
        "drive.mount('/content/drive')"
      ],
      "metadata": {
        "colab": {
          "base_uri": "https://localhost:8080/"
        },
        "id": "1m-P3Gbx5q8S",
        "outputId": "f545ec1a-f208-49a8-ffdb-0002bc45fb3b"
      },
      "execution_count": null,
      "outputs": [
        {
          "output_type": "stream",
          "name": "stdout",
          "text": [
            "Drive already mounted at /content/drive; to attempt to forcibly remount, call drive.mount(\"/content/drive\", force_remount=True).\n"
          ]
        }
      ]
    },
    {
      "cell_type": "code",
      "source": [
        "data = pd.read_csv(\"/content/drive/MyDrive/Colab Workspace /Kannada-MNIST/Dig-MNIST.csv\")\n",
        "data.shape"
      ],
      "metadata": {
        "colab": {
          "base_uri": "https://localhost:8080/"
        },
        "id": "_-5lR6QGrAbL",
        "outputId": "ab9a943d-f758-4971-8f75-77dd7862c952"
      },
      "execution_count": null,
      "outputs": [
        {
          "output_type": "execute_result",
          "data": {
            "text/plain": [
              "(10240, 785)"
            ]
          },
          "metadata": {},
          "execution_count": 204
        }
      ]
    },
    {
      "cell_type": "code",
      "source": [
        "labels = data['label']"
      ],
      "metadata": {
        "id": "-QRuPQijrLGi"
      },
      "execution_count": null,
      "outputs": []
    },
    {
      "cell_type": "code",
      "source": [
        "# some parameters\n",
        "input_size = 784 # 28x28\n",
        "hidden_size = 500\n",
        "num_classes = 10\n",
        "num_epochs = 2\n",
        "batch_size = 128\n",
        "learning_rate = 0.001"
      ],
      "metadata": {
        "id": "fm77GoEygm_o"
      },
      "execution_count": null,
      "outputs": []
    },
    {
      "cell_type": "code",
      "source": [
        "device = torch.device('cuda' if torch.cuda.is_available() else 'cpu')"
      ],
      "metadata": {
        "id": "rGhvWKjzgYKO"
      },
      "execution_count": null,
      "outputs": []
    },
    {
      "cell_type": "code",
      "source": [
        "pixels= data.drop('label',axis =1)"
      ],
      "metadata": {
        "id": "Lo5GZGoE6_Xg"
      },
      "execution_count": null,
      "outputs": []
    },
    {
      "cell_type": "code",
      "source": [
        "labels"
      ],
      "metadata": {
        "colab": {
          "base_uri": "https://localhost:8080/"
        },
        "id": "uim99fbI7Mu3",
        "outputId": "1a185f3b-0406-4760-8050-a51846d230ee"
      },
      "execution_count": null,
      "outputs": [
        {
          "output_type": "execute_result",
          "data": {
            "text/plain": [
              "0        0\n",
              "1        1\n",
              "2        2\n",
              "3        3\n",
              "4        4\n",
              "        ..\n",
              "10235    5\n",
              "10236    6\n",
              "10237    7\n",
              "10238    8\n",
              "10239    9\n",
              "Name: label, Length: 10240, dtype: int64"
            ]
          },
          "metadata": {},
          "execution_count": 209
        }
      ]
    },
    {
      "cell_type": "code",
      "source": [
        "pixels"
      ],
      "metadata": {
        "colab": {
          "base_uri": "https://localhost:8080/",
          "height": 424
        },
        "id": "hBtKDBxj7KJg",
        "outputId": "31b2e27b-f5fc-4083-ad8e-b080456b2077"
      },
      "execution_count": null,
      "outputs": [
        {
          "output_type": "execute_result",
          "data": {
            "text/plain": [
              "       pixel0  pixel1  pixel2  pixel3  pixel4  pixel5  pixel6  pixel7  pixel8  \\\n",
              "0           0       0       0       0       0       0       0       0       0   \n",
              "1           0       0       0       0       0       0       0       0       0   \n",
              "2           0       0       0       0       0       0       0       0       0   \n",
              "3           0       0       0       0       0       0       0       0       0   \n",
              "4           0       0       0       0       0       0       0       0       0   \n",
              "...       ...     ...     ...     ...     ...     ...     ...     ...     ...   \n",
              "10235       0       0       0       0       0       0       0       0       0   \n",
              "10236       0       0       0       0       0       0       0       0       0   \n",
              "10237       0       0       0       0       0       0       0       0       0   \n",
              "10238       0       0       0       0       0       0       0       0       0   \n",
              "10239       0       0       0       0       0       0       0       0       0   \n",
              "\n",
              "       pixel9  ...  pixel774  pixel775  pixel776  pixel777  pixel778  \\\n",
              "0           0  ...         0         0         0         0         0   \n",
              "1           0  ...         0         0         0         0         0   \n",
              "2           0  ...         0         0         0         0         0   \n",
              "3           0  ...         0         0         0         0         0   \n",
              "4           0  ...         0         0         0         0         0   \n",
              "...       ...  ...       ...       ...       ...       ...       ...   \n",
              "10235       0  ...         0         0         0         0         0   \n",
              "10236       0  ...         0         0         0         0         0   \n",
              "10237       0  ...         0         0         0         0         0   \n",
              "10238       0  ...         0         0         0         0         0   \n",
              "10239       0  ...         0         0         0         0         0   \n",
              "\n",
              "       pixel779  pixel780  pixel781  pixel782  pixel783  \n",
              "0             0         0         0         0         0  \n",
              "1             0         0         0         0         0  \n",
              "2             0         0         0         0         0  \n",
              "3             0         0         0         0         0  \n",
              "4             0         0         0         0         0  \n",
              "...         ...       ...       ...       ...       ...  \n",
              "10235         0         0         0         0         0  \n",
              "10236         0         0         0         0         0  \n",
              "10237         0         0         0         0         0  \n",
              "10238         0         0         0         0         0  \n",
              "10239         0         0         0         0         0  \n",
              "\n",
              "[10240 rows x 784 columns]"
            ],
            "text/html": [
              "\n",
              "  <div id=\"df-cf52b2ae-f824-4600-b7cc-45a46f7a8035\" class=\"colab-df-container\">\n",
              "    <div>\n",
              "<style scoped>\n",
              "    .dataframe tbody tr th:only-of-type {\n",
              "        vertical-align: middle;\n",
              "    }\n",
              "\n",
              "    .dataframe tbody tr th {\n",
              "        vertical-align: top;\n",
              "    }\n",
              "\n",
              "    .dataframe thead th {\n",
              "        text-align: right;\n",
              "    }\n",
              "</style>\n",
              "<table border=\"1\" class=\"dataframe\">\n",
              "  <thead>\n",
              "    <tr style=\"text-align: right;\">\n",
              "      <th></th>\n",
              "      <th>pixel0</th>\n",
              "      <th>pixel1</th>\n",
              "      <th>pixel2</th>\n",
              "      <th>pixel3</th>\n",
              "      <th>pixel4</th>\n",
              "      <th>pixel5</th>\n",
              "      <th>pixel6</th>\n",
              "      <th>pixel7</th>\n",
              "      <th>pixel8</th>\n",
              "      <th>pixel9</th>\n",
              "      <th>...</th>\n",
              "      <th>pixel774</th>\n",
              "      <th>pixel775</th>\n",
              "      <th>pixel776</th>\n",
              "      <th>pixel777</th>\n",
              "      <th>pixel778</th>\n",
              "      <th>pixel779</th>\n",
              "      <th>pixel780</th>\n",
              "      <th>pixel781</th>\n",
              "      <th>pixel782</th>\n",
              "      <th>pixel783</th>\n",
              "    </tr>\n",
              "  </thead>\n",
              "  <tbody>\n",
              "    <tr>\n",
              "      <th>0</th>\n",
              "      <td>0</td>\n",
              "      <td>0</td>\n",
              "      <td>0</td>\n",
              "      <td>0</td>\n",
              "      <td>0</td>\n",
              "      <td>0</td>\n",
              "      <td>0</td>\n",
              "      <td>0</td>\n",
              "      <td>0</td>\n",
              "      <td>0</td>\n",
              "      <td>...</td>\n",
              "      <td>0</td>\n",
              "      <td>0</td>\n",
              "      <td>0</td>\n",
              "      <td>0</td>\n",
              "      <td>0</td>\n",
              "      <td>0</td>\n",
              "      <td>0</td>\n",
              "      <td>0</td>\n",
              "      <td>0</td>\n",
              "      <td>0</td>\n",
              "    </tr>\n",
              "    <tr>\n",
              "      <th>1</th>\n",
              "      <td>0</td>\n",
              "      <td>0</td>\n",
              "      <td>0</td>\n",
              "      <td>0</td>\n",
              "      <td>0</td>\n",
              "      <td>0</td>\n",
              "      <td>0</td>\n",
              "      <td>0</td>\n",
              "      <td>0</td>\n",
              "      <td>0</td>\n",
              "      <td>...</td>\n",
              "      <td>0</td>\n",
              "      <td>0</td>\n",
              "      <td>0</td>\n",
              "      <td>0</td>\n",
              "      <td>0</td>\n",
              "      <td>0</td>\n",
              "      <td>0</td>\n",
              "      <td>0</td>\n",
              "      <td>0</td>\n",
              "      <td>0</td>\n",
              "    </tr>\n",
              "    <tr>\n",
              "      <th>2</th>\n",
              "      <td>0</td>\n",
              "      <td>0</td>\n",
              "      <td>0</td>\n",
              "      <td>0</td>\n",
              "      <td>0</td>\n",
              "      <td>0</td>\n",
              "      <td>0</td>\n",
              "      <td>0</td>\n",
              "      <td>0</td>\n",
              "      <td>0</td>\n",
              "      <td>...</td>\n",
              "      <td>0</td>\n",
              "      <td>0</td>\n",
              "      <td>0</td>\n",
              "      <td>0</td>\n",
              "      <td>0</td>\n",
              "      <td>0</td>\n",
              "      <td>0</td>\n",
              "      <td>0</td>\n",
              "      <td>0</td>\n",
              "      <td>0</td>\n",
              "    </tr>\n",
              "    <tr>\n",
              "      <th>3</th>\n",
              "      <td>0</td>\n",
              "      <td>0</td>\n",
              "      <td>0</td>\n",
              "      <td>0</td>\n",
              "      <td>0</td>\n",
              "      <td>0</td>\n",
              "      <td>0</td>\n",
              "      <td>0</td>\n",
              "      <td>0</td>\n",
              "      <td>0</td>\n",
              "      <td>...</td>\n",
              "      <td>0</td>\n",
              "      <td>0</td>\n",
              "      <td>0</td>\n",
              "      <td>0</td>\n",
              "      <td>0</td>\n",
              "      <td>0</td>\n",
              "      <td>0</td>\n",
              "      <td>0</td>\n",
              "      <td>0</td>\n",
              "      <td>0</td>\n",
              "    </tr>\n",
              "    <tr>\n",
              "      <th>4</th>\n",
              "      <td>0</td>\n",
              "      <td>0</td>\n",
              "      <td>0</td>\n",
              "      <td>0</td>\n",
              "      <td>0</td>\n",
              "      <td>0</td>\n",
              "      <td>0</td>\n",
              "      <td>0</td>\n",
              "      <td>0</td>\n",
              "      <td>0</td>\n",
              "      <td>...</td>\n",
              "      <td>0</td>\n",
              "      <td>0</td>\n",
              "      <td>0</td>\n",
              "      <td>0</td>\n",
              "      <td>0</td>\n",
              "      <td>0</td>\n",
              "      <td>0</td>\n",
              "      <td>0</td>\n",
              "      <td>0</td>\n",
              "      <td>0</td>\n",
              "    </tr>\n",
              "    <tr>\n",
              "      <th>...</th>\n",
              "      <td>...</td>\n",
              "      <td>...</td>\n",
              "      <td>...</td>\n",
              "      <td>...</td>\n",
              "      <td>...</td>\n",
              "      <td>...</td>\n",
              "      <td>...</td>\n",
              "      <td>...</td>\n",
              "      <td>...</td>\n",
              "      <td>...</td>\n",
              "      <td>...</td>\n",
              "      <td>...</td>\n",
              "      <td>...</td>\n",
              "      <td>...</td>\n",
              "      <td>...</td>\n",
              "      <td>...</td>\n",
              "      <td>...</td>\n",
              "      <td>...</td>\n",
              "      <td>...</td>\n",
              "      <td>...</td>\n",
              "      <td>...</td>\n",
              "    </tr>\n",
              "    <tr>\n",
              "      <th>10235</th>\n",
              "      <td>0</td>\n",
              "      <td>0</td>\n",
              "      <td>0</td>\n",
              "      <td>0</td>\n",
              "      <td>0</td>\n",
              "      <td>0</td>\n",
              "      <td>0</td>\n",
              "      <td>0</td>\n",
              "      <td>0</td>\n",
              "      <td>0</td>\n",
              "      <td>...</td>\n",
              "      <td>0</td>\n",
              "      <td>0</td>\n",
              "      <td>0</td>\n",
              "      <td>0</td>\n",
              "      <td>0</td>\n",
              "      <td>0</td>\n",
              "      <td>0</td>\n",
              "      <td>0</td>\n",
              "      <td>0</td>\n",
              "      <td>0</td>\n",
              "    </tr>\n",
              "    <tr>\n",
              "      <th>10236</th>\n",
              "      <td>0</td>\n",
              "      <td>0</td>\n",
              "      <td>0</td>\n",
              "      <td>0</td>\n",
              "      <td>0</td>\n",
              "      <td>0</td>\n",
              "      <td>0</td>\n",
              "      <td>0</td>\n",
              "      <td>0</td>\n",
              "      <td>0</td>\n",
              "      <td>...</td>\n",
              "      <td>0</td>\n",
              "      <td>0</td>\n",
              "      <td>0</td>\n",
              "      <td>0</td>\n",
              "      <td>0</td>\n",
              "      <td>0</td>\n",
              "      <td>0</td>\n",
              "      <td>0</td>\n",
              "      <td>0</td>\n",
              "      <td>0</td>\n",
              "    </tr>\n",
              "    <tr>\n",
              "      <th>10237</th>\n",
              "      <td>0</td>\n",
              "      <td>0</td>\n",
              "      <td>0</td>\n",
              "      <td>0</td>\n",
              "      <td>0</td>\n",
              "      <td>0</td>\n",
              "      <td>0</td>\n",
              "      <td>0</td>\n",
              "      <td>0</td>\n",
              "      <td>0</td>\n",
              "      <td>...</td>\n",
              "      <td>0</td>\n",
              "      <td>0</td>\n",
              "      <td>0</td>\n",
              "      <td>0</td>\n",
              "      <td>0</td>\n",
              "      <td>0</td>\n",
              "      <td>0</td>\n",
              "      <td>0</td>\n",
              "      <td>0</td>\n",
              "      <td>0</td>\n",
              "    </tr>\n",
              "    <tr>\n",
              "      <th>10238</th>\n",
              "      <td>0</td>\n",
              "      <td>0</td>\n",
              "      <td>0</td>\n",
              "      <td>0</td>\n",
              "      <td>0</td>\n",
              "      <td>0</td>\n",
              "      <td>0</td>\n",
              "      <td>0</td>\n",
              "      <td>0</td>\n",
              "      <td>0</td>\n",
              "      <td>...</td>\n",
              "      <td>0</td>\n",
              "      <td>0</td>\n",
              "      <td>0</td>\n",
              "      <td>0</td>\n",
              "      <td>0</td>\n",
              "      <td>0</td>\n",
              "      <td>0</td>\n",
              "      <td>0</td>\n",
              "      <td>0</td>\n",
              "      <td>0</td>\n",
              "    </tr>\n",
              "    <tr>\n",
              "      <th>10239</th>\n",
              "      <td>0</td>\n",
              "      <td>0</td>\n",
              "      <td>0</td>\n",
              "      <td>0</td>\n",
              "      <td>0</td>\n",
              "      <td>0</td>\n",
              "      <td>0</td>\n",
              "      <td>0</td>\n",
              "      <td>0</td>\n",
              "      <td>0</td>\n",
              "      <td>...</td>\n",
              "      <td>0</td>\n",
              "      <td>0</td>\n",
              "      <td>0</td>\n",
              "      <td>0</td>\n",
              "      <td>0</td>\n",
              "      <td>0</td>\n",
              "      <td>0</td>\n",
              "      <td>0</td>\n",
              "      <td>0</td>\n",
              "      <td>0</td>\n",
              "    </tr>\n",
              "  </tbody>\n",
              "</table>\n",
              "<p>10240 rows × 784 columns</p>\n",
              "</div>\n",
              "    <div class=\"colab-df-buttons\">\n",
              "\n",
              "  <div class=\"colab-df-container\">\n",
              "    <button class=\"colab-df-convert\" onclick=\"convertToInteractive('df-cf52b2ae-f824-4600-b7cc-45a46f7a8035')\"\n",
              "            title=\"Convert this dataframe to an interactive table.\"\n",
              "            style=\"display:none;\">\n",
              "\n",
              "  <svg xmlns=\"http://www.w3.org/2000/svg\" height=\"24px\" viewBox=\"0 -960 960 960\">\n",
              "    <path d=\"M120-120v-720h720v720H120Zm60-500h600v-160H180v160Zm220 220h160v-160H400v160Zm0 220h160v-160H400v160ZM180-400h160v-160H180v160Zm440 0h160v-160H620v160ZM180-180h160v-160H180v160Zm440 0h160v-160H620v160Z\"/>\n",
              "  </svg>\n",
              "    </button>\n",
              "\n",
              "  <style>\n",
              "    .colab-df-container {\n",
              "      display:flex;\n",
              "      gap: 12px;\n",
              "    }\n",
              "\n",
              "    .colab-df-convert {\n",
              "      background-color: #E8F0FE;\n",
              "      border: none;\n",
              "      border-radius: 50%;\n",
              "      cursor: pointer;\n",
              "      display: none;\n",
              "      fill: #1967D2;\n",
              "      height: 32px;\n",
              "      padding: 0 0 0 0;\n",
              "      width: 32px;\n",
              "    }\n",
              "\n",
              "    .colab-df-convert:hover {\n",
              "      background-color: #E2EBFA;\n",
              "      box-shadow: 0px 1px 2px rgba(60, 64, 67, 0.3), 0px 1px 3px 1px rgba(60, 64, 67, 0.15);\n",
              "      fill: #174EA6;\n",
              "    }\n",
              "\n",
              "    .colab-df-buttons div {\n",
              "      margin-bottom: 4px;\n",
              "    }\n",
              "\n",
              "    [theme=dark] .colab-df-convert {\n",
              "      background-color: #3B4455;\n",
              "      fill: #D2E3FC;\n",
              "    }\n",
              "\n",
              "    [theme=dark] .colab-df-convert:hover {\n",
              "      background-color: #434B5C;\n",
              "      box-shadow: 0px 1px 3px 1px rgba(0, 0, 0, 0.15);\n",
              "      filter: drop-shadow(0px 1px 2px rgba(0, 0, 0, 0.3));\n",
              "      fill: #FFFFFF;\n",
              "    }\n",
              "  </style>\n",
              "\n",
              "    <script>\n",
              "      const buttonEl =\n",
              "        document.querySelector('#df-cf52b2ae-f824-4600-b7cc-45a46f7a8035 button.colab-df-convert');\n",
              "      buttonEl.style.display =\n",
              "        google.colab.kernel.accessAllowed ? 'block' : 'none';\n",
              "\n",
              "      async function convertToInteractive(key) {\n",
              "        const element = document.querySelector('#df-cf52b2ae-f824-4600-b7cc-45a46f7a8035');\n",
              "        const dataTable =\n",
              "          await google.colab.kernel.invokeFunction('convertToInteractive',\n",
              "                                                    [key], {});\n",
              "        if (!dataTable) return;\n",
              "\n",
              "        const docLinkHtml = 'Like what you see? Visit the ' +\n",
              "          '<a target=\"_blank\" href=https://colab.research.google.com/notebooks/data_table.ipynb>data table notebook</a>'\n",
              "          + ' to learn more about interactive tables.';\n",
              "        element.innerHTML = '';\n",
              "        dataTable['output_type'] = 'display_data';\n",
              "        await google.colab.output.renderOutput(dataTable, element);\n",
              "        const docLink = document.createElement('div');\n",
              "        docLink.innerHTML = docLinkHtml;\n",
              "        element.appendChild(docLink);\n",
              "      }\n",
              "    </script>\n",
              "  </div>\n",
              "\n",
              "\n",
              "<div id=\"df-7a594400-816b-42d7-820e-ce54c1f1fe51\">\n",
              "  <button class=\"colab-df-quickchart\" onclick=\"quickchart('df-7a594400-816b-42d7-820e-ce54c1f1fe51')\"\n",
              "            title=\"Suggest charts.\"\n",
              "            style=\"display:none;\">\n",
              "\n",
              "<svg xmlns=\"http://www.w3.org/2000/svg\" height=\"24px\"viewBox=\"0 0 24 24\"\n",
              "     width=\"24px\">\n",
              "    <g>\n",
              "        <path d=\"M19 3H5c-1.1 0-2 .9-2 2v14c0 1.1.9 2 2 2h14c1.1 0 2-.9 2-2V5c0-1.1-.9-2-2-2zM9 17H7v-7h2v7zm4 0h-2V7h2v10zm4 0h-2v-4h2v4z\"/>\n",
              "    </g>\n",
              "</svg>\n",
              "  </button>\n",
              "\n",
              "<style>\n",
              "  .colab-df-quickchart {\n",
              "    background-color: #E8F0FE;\n",
              "    border: none;\n",
              "    border-radius: 50%;\n",
              "    cursor: pointer;\n",
              "    display: none;\n",
              "    fill: #1967D2;\n",
              "    height: 32px;\n",
              "    padding: 0 0 0 0;\n",
              "    width: 32px;\n",
              "  }\n",
              "\n",
              "  .colab-df-quickchart:hover {\n",
              "    background-color: #E2EBFA;\n",
              "    box-shadow: 0px 1px 2px rgba(60, 64, 67, 0.3), 0px 1px 3px 1px rgba(60, 64, 67, 0.15);\n",
              "    fill: #174EA6;\n",
              "  }\n",
              "\n",
              "  [theme=dark] .colab-df-quickchart {\n",
              "    background-color: #3B4455;\n",
              "    fill: #D2E3FC;\n",
              "  }\n",
              "\n",
              "  [theme=dark] .colab-df-quickchart:hover {\n",
              "    background-color: #434B5C;\n",
              "    box-shadow: 0px 1px 3px 1px rgba(0, 0, 0, 0.15);\n",
              "    filter: drop-shadow(0px 1px 2px rgba(0, 0, 0, 0.3));\n",
              "    fill: #FFFFFF;\n",
              "  }\n",
              "</style>\n",
              "\n",
              "  <script>\n",
              "    async function quickchart(key) {\n",
              "      const charts = await google.colab.kernel.invokeFunction(\n",
              "          'suggestCharts', [key], {});\n",
              "    }\n",
              "    (() => {\n",
              "      let quickchartButtonEl =\n",
              "        document.querySelector('#df-7a594400-816b-42d7-820e-ce54c1f1fe51 button');\n",
              "      quickchartButtonEl.style.display =\n",
              "        google.colab.kernel.accessAllowed ? 'block' : 'none';\n",
              "    })();\n",
              "  </script>\n",
              "</div>\n",
              "    </div>\n",
              "  </div>\n"
            ]
          },
          "metadata": {},
          "execution_count": 210
        }
      ]
    },
    {
      "cell_type": "code",
      "source": [],
      "metadata": {
        "id": "lq82OJFV-tfZ"
      },
      "execution_count": null,
      "outputs": []
    },
    {
      "cell_type": "code",
      "source": [
        "import os\n",
        "import pandas as pd\n",
        "from torchvision.io import read_image\n",
        "\n",
        "class CustomImageDataset(Dataset):\n",
        "    def __init__(self, labels, pixels, transform=None, target_transform=None):\n",
        "        self.labels =labels\n",
        "        self.pixels = pixels\n",
        "        self.transform = transform\n",
        "        self.target_transform = target_transform\n",
        "\n",
        "    def __len__(self):\n",
        "        return len(self.labels)\n",
        "\n",
        "    def __getitem__(self, idx):\n",
        "        pixel_val = self.pixels[idx].astype(float)\n",
        "        label_val = self.labels[idx]\n",
        "        if self.transform:\n",
        "            pixel_val = self.transform(pixel_val)\n",
        "        if self.target_transform:\n",
        "            label_val = self.target_transform(label_val)\n",
        "        return pixel_val , label_val\n",
        "\n"
      ],
      "metadata": {
        "id": "vhNEib2cjdbM"
      },
      "execution_count": null,
      "outputs": []
    },
    {
      "cell_type": "code",
      "source": [
        "Data = CustomImageDataset(labels.values, pixels.values)\n",
        "fig, axes = plt.subplots(3, 3, figsize=(8, 8))\n",
        "\n",
        "for idx in range(9):\n",
        "    pixel_values, label = Data[idx]\n",
        "    image = pixel_values.reshape(28, 28)\n",
        "\n",
        "    row_idx = idx // 3\n",
        "    col_idx = idx % 3\n",
        "    axes[row_idx, col_idx].imshow(image, cmap='gray')\n",
        "    axes[row_idx, col_idx].set_title(f\"Label: {label}\")\n",
        "    axes[row_idx, col_idx].axis('off')\n",
        "\n",
        "plt.tight_layout()\n",
        "plt.show()"
      ],
      "metadata": {
        "id": "PfDTfMuyjdVs",
        "colab": {
          "base_uri": "https://localhost:8080/",
          "height": 807
        },
        "outputId": "a6f5998b-fb18-40a3-b925-227c3be46eaa"
      },
      "execution_count": null,
      "outputs": [
        {
          "output_type": "display_data",
          "data": {
            "text/plain": [
              "<Figure size 800x800 with 9 Axes>"
            ],
            "image/png": "[encoded data removed]"
          },
          "metadata": {}
        }
      ]
    },
    {
      "cell_type": "markdown",
      "source": [
        "## Applying PCA"
      ],
      "metadata": {
        "id": "itbT1mgVx73x"
      }
    },
    {
      "cell_type": "code",
      "source": [
        "import numpy as np\n",
        "\n",
        "data_matrix = pixels.astype(float)\n",
        "\n",
        "# Calculate the covariance matrix\n",
        "covariance_matrix = np.cov(data_matrix, rowvar=False)\n",
        "\n",
        "# Compute the eigenvalues and eigenvectors of the covariance matrix\n",
        "eigenvalues, eigenvectors = np.linalg.eig(covariance_matrix)\n",
        "\n",
        "# Print the eigenvalues\n",
        "print(\"Eigenvalues:\")\n",
        "print(eigenvalues)\n"
      ],
      "metadata": {
        "colab": {
          "base_uri": "https://localhost:8080/"
        },
        "id": "h7wkLEN0CGpQ",
        "outputId": "972eecec-9c1b-4b6a-a861-62db6039dfcb"
      },
      "execution_count": null,
      "outputs": [
        {
          "output_type": "stream",
          "name": "stdout",
          "text": [
            "Eigenvalues:\n",
            "[ 2.55393898e+05+0.00000000e+00j  1.67144308e+05+0.00000000e+00j\n",
            "  1.38038361e+05+0.00000000e+00j  1.12101044e+05+0.00000000e+00j\n",
            "  9.83432564e+04+0.00000000e+00j  8.95386100e+04+0.00000000e+00j\n",
            "  8.04501338e+04+0.00000000e+00j  7.26664600e+04+0.00000000e+00j\n",
            "  6.88410950e+04+0.00000000e+00j  6.63208030e+04+0.00000000e+00j\n",
            "  6.11019064e+04+0.00000000e+00j  5.70488661e+04+0.00000000e+00j\n",
            "  5.37606821e+04+0.00000000e+00j  5.17724953e+04+0.00000000e+00j\n",
            "  4.77690162e+04+0.00000000e+00j  4.38146081e+04+0.00000000e+00j\n",
            "  4.26837105e+04+0.00000000e+00j  4.14219918e+04+0.00000000e+00j\n",
            "  3.71354405e+04+0.00000000e+00j  3.61681750e+04+0.00000000e+00j\n",
            "  3.44384646e+04+0.00000000e+00j  3.34031203e+04+0.00000000e+00j\n",
            "  3.21771854e+04+0.00000000e+00j  3.16236138e+04+0.00000000e+00j\n",
            "  3.04571889e+04+0.00000000e+00j  2.94771575e+04+0.00000000e+00j\n",
            "  2.89306521e+04+0.00000000e+00j  2.82788544e+04+0.00000000e+00j\n",
            "  2.64911624e+04+0.00000000e+00j  2.54381133e+04+0.00000000e+00j\n",
            "  2.45633260e+04+0.00000000e+00j  2.43223941e+04+0.00000000e+00j\n",
            "  2.37659917e+04+0.00000000e+00j  2.33835789e+04+0.00000000e+00j\n",
            "  2.28454028e+04+0.00000000e+00j  2.18096042e+04+0.00000000e+00j\n",
            "  2.06463397e+04+0.00000000e+00j  1.99218021e+04+0.00000000e+00j\n",
            "  1.98776640e+04+0.00000000e+00j  1.93133280e+04+0.00000000e+00j\n",
            "  1.88836991e+04+0.00000000e+00j  1.82998175e+04+0.00000000e+00j\n",
            "  1.81073038e+04+0.00000000e+00j  1.79606127e+04+0.00000000e+00j\n",
            "  1.73920292e+04+0.00000000e+00j  1.67146762e+04+0.00000000e+00j\n",
            "  1.60278669e+04+0.00000000e+00j  1.57188246e+04+0.00000000e+00j\n",
            "  1.53649797e+04+0.00000000e+00j  1.49856716e+04+0.00000000e+00j\n",
            "  1.47598871e+04+0.00000000e+00j  1.45068487e+04+0.00000000e+00j\n",
            "  1.44324185e+04+0.00000000e+00j  1.41888578e+04+0.00000000e+00j\n",
            "  1.37767345e+04+0.00000000e+00j  1.35132695e+04+0.00000000e+00j\n",
            "  1.30179600e+04+0.00000000e+00j  1.27173511e+04+0.00000000e+00j\n",
            "  1.22450724e+04+0.00000000e+00j  1.20472223e+04+0.00000000e+00j\n",
            "  1.15779026e+04+0.00000000e+00j  1.14631160e+04+0.00000000e+00j\n",
            "  1.13100249e+04+0.00000000e+00j  1.11166195e+04+0.00000000e+00j\n",
            "  1.10840961e+04+0.00000000e+00j  1.08507834e+04+0.00000000e+00j\n",
            "  1.05393745e+04+0.00000000e+00j  1.03638668e+04+0.00000000e+00j\n",
            "  1.02679117e+04+0.00000000e+00j  1.01476629e+04+0.00000000e+00j\n",
            "  1.00420280e+04+0.00000000e+00j  9.81065145e+03+0.00000000e+00j\n",
            "  9.50407354e+03+0.00000000e+00j  9.35293232e+03+0.00000000e+00j\n",
            "  9.26043269e+03+0.00000000e+00j  9.17901305e+03+0.00000000e+00j\n",
            "  8.86087576e+03+0.00000000e+00j  8.71658279e+03+0.00000000e+00j\n",
            "  8.59161722e+03+0.00000000e+00j  8.44078524e+03+0.00000000e+00j\n",
            "  8.33783522e+03+0.00000000e+00j  8.07010487e+03+0.00000000e+00j\n",
            "  7.89032213e+03+0.00000000e+00j  7.78480678e+03+0.00000000e+00j\n",
            "  7.60953893e+03+0.00000000e+00j  7.46456270e+03+0.00000000e+00j\n",
            "  7.41451555e+03+0.00000000e+00j  7.35165439e+03+0.00000000e+00j\n",
            "  7.35514523e+03+0.00000000e+00j  7.12075674e+03+0.00000000e+00j\n",
            "  6.99279019e+03+0.00000000e+00j  6.87289750e+03+0.00000000e+00j\n",
            "  6.65222901e+03+0.00000000e+00j  6.61972830e+03+0.00000000e+00j\n",
            "  6.56566906e+03+0.00000000e+00j  6.44135274e+03+0.00000000e+00j\n",
            "  6.46129621e+03+0.00000000e+00j  6.24826272e+03+0.00000000e+00j\n",
            "  6.17688214e+03+0.00000000e+00j  6.15117557e+03+0.00000000e+00j\n",
            "  5.95743343e+03+0.00000000e+00j  5.90429622e+03+0.00000000e+00j\n",
            "  5.81552154e+03+0.00000000e+00j  5.79783071e+03+0.00000000e+00j\n",
            "  5.74166111e+03+0.00000000e+00j  5.67917741e+03+0.00000000e+00j\n",
            "  5.55528671e+03+0.00000000e+00j  5.57084066e+03+0.00000000e+00j\n",
            "  5.24541021e+03+0.00000000e+00j  5.23332170e+03+0.00000000e+00j\n",
            "  5.17883061e+03+0.00000000e+00j  5.06194340e+03+0.00000000e+00j\n",
            "  5.12437810e+03+0.00000000e+00j  4.97734717e+03+0.00000000e+00j\n",
            "  4.90059095e+03+0.00000000e+00j  4.83428375e+03+0.00000000e+00j\n",
            "  4.76977367e+03+0.00000000e+00j  4.72589107e+03+0.00000000e+00j\n",
            "  4.73740771e+03+0.00000000e+00j  4.60722229e+03+0.00000000e+00j\n",
            "  4.58547865e+03+0.00000000e+00j  4.50716660e+03+0.00000000e+00j\n",
            "  4.44743642e+03+0.00000000e+00j  4.37289117e+03+0.00000000e+00j\n",
            "  4.47544196e+03+0.00000000e+00j  3.99904087e+03+0.00000000e+00j\n",
            "  4.03814698e+03+0.00000000e+00j  4.28773594e+03+0.00000000e+00j\n",
            "  4.23080158e+03+0.00000000e+00j  4.25966285e+03+0.00000000e+00j\n",
            "  4.12370200e+03+0.00000000e+00j  4.16614185e+03+0.00000000e+00j\n",
            "  3.91309648e+03+0.00000000e+00j  3.86195493e+03+0.00000000e+00j\n",
            "  3.85039895e+03+0.00000000e+00j  3.72012488e+03+0.00000000e+00j\n",
            "  3.68522383e+03+0.00000000e+00j  3.67989951e+03+0.00000000e+00j\n",
            "  3.62239214e+03+0.00000000e+00j  3.60575542e+03+0.00000000e+00j\n",
            "  3.53702326e+03+0.00000000e+00j  3.51686357e+03+0.00000000e+00j\n",
            "  3.48576195e+03+0.00000000e+00j  3.44896726e+03+0.00000000e+00j\n",
            "  3.39319713e+03+0.00000000e+00j  3.34513165e+03+0.00000000e+00j\n",
            "  3.36521696e+03+0.00000000e+00j  3.27614883e+03+0.00000000e+00j\n",
            "  3.25754266e+03+0.00000000e+00j  3.19894569e+03+0.00000000e+00j\n",
            "  3.15577840e+03+0.00000000e+00j  3.10486718e+03+0.00000000e+00j\n",
            "  3.08130655e+03+0.00000000e+00j  2.99024102e+03+0.00000000e+00j\n",
            "  3.05258331e+03+0.00000000e+00j  3.03688974e+03+0.00000000e+00j\n",
            "  2.95531849e+03+0.00000000e+00j  2.91739808e+03+0.00000000e+00j\n",
            "  2.87099460e+03+0.00000000e+00j  2.84910888e+03+0.00000000e+00j\n",
            "  2.81040174e+03+0.00000000e+00j  2.78837522e+03+0.00000000e+00j\n",
            "  2.75726444e+03+0.00000000e+00j  2.75293784e+03+0.00000000e+00j\n",
            "  2.62334818e+03+0.00000000e+00j  2.73656152e+03+0.00000000e+00j\n",
            "  2.66603264e+03+0.00000000e+00j  2.71429816e+03+0.00000000e+00j\n",
            "  2.70211303e+03+0.00000000e+00j  2.59193703e+03+0.00000000e+00j\n",
            "  2.57185765e+03+0.00000000e+00j  2.55758635e+03+0.00000000e+00j\n",
            "  2.52787687e+03+0.00000000e+00j  2.48972040e+03+0.00000000e+00j\n",
            "  2.45905521e+03+0.00000000e+00j  2.44983263e+03+0.00000000e+00j\n",
            "  2.40479218e+03+0.00000000e+00j  2.38772331e+03+0.00000000e+00j\n",
            "  2.37948980e+03+0.00000000e+00j  2.35782637e+03+0.00000000e+00j\n",
            "  2.30660011e+03+0.00000000e+00j  2.32136010e+03+0.00000000e+00j\n",
            "  2.28719669e+03+0.00000000e+00j  2.23007720e+03+0.00000000e+00j\n",
            "  2.26003982e+03+0.00000000e+00j  2.26575644e+03+0.00000000e+00j\n",
            "  2.20257973e+03+0.00000000e+00j  2.17997674e+03+0.00000000e+00j\n",
            "  2.16840553e+03+0.00000000e+00j  2.14533970e+03+0.00000000e+00j\n",
            "  2.13580636e+03+0.00000000e+00j  1.81046990e+03+0.00000000e+00j\n",
            "  2.04342118e+03+0.00000000e+00j  2.03205873e+03+0.00000000e+00j\n",
            "  2.08249060e+03+0.00000000e+00j  2.10201786e+03+0.00000000e+00j\n",
            "  2.09750776e+03+0.00000000e+00j  1.87653232e+03+0.00000000e+00j\n",
            "  1.85827671e+03+0.00000000e+00j  1.84711816e+03+0.00000000e+00j\n",
            "  1.97751451e+03+0.00000000e+00j  1.99907703e+03+0.00000000e+00j\n",
            "  1.93064207e+03+0.00000000e+00j  1.99596249e+03+0.00000000e+00j\n",
            "  1.90116335e+03+0.00000000e+00j  1.90999516e+03+0.00000000e+00j\n",
            "  1.96096729e+03+0.00000000e+00j  1.96529052e+03+0.00000000e+00j\n",
            "  1.80000830e+03+0.00000000e+00j  1.78383036e+03+0.00000000e+00j\n",
            "  1.77633683e+03+0.00000000e+00j  1.75501773e+03+0.00000000e+00j\n",
            "  1.73595234e+03+0.00000000e+00j  1.72204138e+03+0.00000000e+00j\n",
            "  1.70969995e+03+0.00000000e+00j  1.69116926e+03+0.00000000e+00j\n",
            "  1.67856425e+03+0.00000000e+00j  1.67557513e+03+0.00000000e+00j\n",
            "  1.64456060e+03+0.00000000e+00j  1.66427758e+03+0.00000000e+00j\n",
            "  1.65270225e+03+0.00000000e+00j  1.63444106e+03+0.00000000e+00j\n",
            "  1.61482591e+03+0.00000000e+00j  1.62205439e+03+0.00000000e+00j\n",
            "  1.57873374e+03+0.00000000e+00j  1.57346248e+03+0.00000000e+00j\n",
            "  1.56964419e+03+0.00000000e+00j  1.54100842e+03+0.00000000e+00j\n",
            "  1.55409813e+03+0.00000000e+00j  1.55043661e+03+0.00000000e+00j\n",
            "  1.52269806e+03+0.00000000e+00j  1.50753469e+03+0.00000000e+00j\n",
            "  1.49366815e+03+0.00000000e+00j  1.49768638e+03+0.00000000e+00j\n",
            "  1.46414362e+03+0.00000000e+00j  1.45446186e+03+0.00000000e+00j\n",
            "  1.44106288e+03+0.00000000e+00j  1.47808420e+03+0.00000000e+00j\n",
            "  1.42316877e+03+0.00000000e+00j  1.41609499e+03+0.00000000e+00j\n",
            "  1.40827894e+03+0.00000000e+00j  1.38988486e+03+0.00000000e+00j\n",
            "  1.37996138e+03+0.00000000e+00j  1.36541358e+03+0.00000000e+00j\n",
            "  1.35527690e+03+0.00000000e+00j  1.34216567e+03+0.00000000e+00j\n",
            "  1.35313393e+03+0.00000000e+00j  1.33784883e+03+0.00000000e+00j\n",
            "  1.32718544e+03+0.00000000e+00j  1.31148153e+03+0.00000000e+00j\n",
            "  1.30563993e+03+0.00000000e+00j  1.14233479e+03+0.00000000e+00j\n",
            "  1.29478776e+03+0.00000000e+00j  1.28357749e+03+0.00000000e+00j\n",
            "  1.15873365e+03+0.00000000e+00j  1.14734024e+03+0.00000000e+00j\n",
            "  1.25473860e+03+0.00000000e+00j  1.33080967e+03+0.00000000e+00j\n",
            "  1.23241152e+03+0.00000000e+00j  1.18706255e+03+0.00000000e+00j\n",
            "  1.17797861e+03+0.00000000e+00j  1.24652227e+03+0.00000000e+00j\n",
            "  1.14627808e+03+0.00000000e+00j  1.17579016e+03+0.00000000e+00j\n",
            "  1.21575850e+03+0.00000000e+00j  1.20500214e+03+0.00000000e+00j\n",
            "  1.24457500e+03+0.00000000e+00j  1.20110261e+03+0.00000000e+00j\n",
            "  1.28916244e+03+0.00000000e+00j  1.27182077e+03+0.00000000e+00j\n",
            "  1.19412100e+03+0.00000000e+00j  1.13251751e+03+0.00000000e+00j\n",
            "  1.13952251e+03+0.00000000e+00j  1.11619094e+03+0.00000000e+00j\n",
            "  1.10843879e+03+0.00000000e+00j  1.11194822e+03+0.00000000e+00j\n",
            "  1.09365961e+03+0.00000000e+00j  1.08802921e+03+0.00000000e+00j\n",
            "  1.07921972e+03+0.00000000e+00j  1.07344132e+03+0.00000000e+00j\n",
            "  1.06632434e+03+0.00000000e+00j  1.05691382e+03+0.00000000e+00j\n",
            "  1.04259478e+03+0.00000000e+00j  1.03268497e+03+0.00000000e+00j\n",
            "  1.02374538e+03+0.00000000e+00j  1.02149714e+03+0.00000000e+00j\n",
            "  1.01695034e+03+0.00000000e+00j  1.01034138e+03+0.00000000e+00j\n",
            "  1.00067176e+03+0.00000000e+00j  1.00241830e+03+0.00000000e+00j\n",
            "  9.94446124e+02+0.00000000e+00j  9.85882145e+02+0.00000000e+00j\n",
            "  9.82333003e+02+0.00000000e+00j  9.69665588e+02+0.00000000e+00j\n",
            "  9.66645670e+02+0.00000000e+00j  9.46743912e+02+0.00000000e+00j\n",
            "  9.56409706e+02+0.00000000e+00j  9.59308840e+02+0.00000000e+00j\n",
            "  9.45204897e+02+0.00000000e+00j  9.22233407e+02+0.00000000e+00j\n",
            "  8.30446459e+02+0.00000000e+00j  9.16582639e+02+0.00000000e+00j\n",
            "  8.32200015e+02+0.00000000e+00j  9.27682646e+02+0.00000000e+00j\n",
            "  9.35578824e+02+0.00000000e+00j  9.09830880e+02+0.00000000e+00j\n",
            "  8.90808506e+02+0.00000000e+00j  8.36671233e+02+0.00000000e+00j\n",
            "  8.83683416e+02+0.00000000e+00j  8.69546220e+02+0.00000000e+00j\n",
            "  8.80897209e+02+0.00000000e+00j  9.36110946e+02+0.00000000e+00j\n",
            "  9.11297170e+02+0.00000000e+00j  8.43292461e+02+0.00000000e+00j\n",
            "  8.57570469e+02+0.00000000e+00j  8.52262738e+02+0.00000000e+00j\n",
            "  8.47318609e+02+0.00000000e+00j  8.56349229e+02+0.00000000e+00j\n",
            "  8.73947472e+02+0.00000000e+00j  8.50095674e+02+0.00000000e+00j\n",
            "  8.21840883e+02+0.00000000e+00j  8.17536737e+02+0.00000000e+00j\n",
            "  8.10616236e+02+0.00000000e+00j  7.99437144e+02+0.00000000e+00j\n",
            "  7.96637649e+02+0.00000000e+00j  7.92745472e+02+0.00000000e+00j\n",
            "  7.89169580e+02+0.00000000e+00j  7.83675973e+02+0.00000000e+00j\n",
            "  7.74475682e+02+0.00000000e+00j  7.68718334e+02+0.00000000e+00j\n",
            "  7.62626670e+02+0.00000000e+00j  7.64553048e+02+0.00000000e+00j\n",
            "  7.57623231e+02+0.00000000e+00j  7.50760421e+02+0.00000000e+00j\n",
            "  7.45825745e+02+0.00000000e+00j  7.47384714e+02+0.00000000e+00j\n",
            "  7.37665117e+02+0.00000000e+00j  7.32602039e+02+0.00000000e+00j\n",
            "  7.29701061e+02+0.00000000e+00j  7.16399018e+02+0.00000000e+00j\n",
            "  7.19444295e+02+0.00000000e+00j  7.10658397e+02+0.00000000e+00j\n",
            "  7.08253493e+02+0.00000000e+00j  7.06857464e+02+0.00000000e+00j\n",
            "  7.00850466e+02+0.00000000e+00j  6.97126763e+02+0.00000000e+00j\n",
            "  6.89797943e+02+0.00000000e+00j  6.91741242e+02+0.00000000e+00j\n",
            "  6.82240463e+02+0.00000000e+00j  6.81299108e+02+0.00000000e+00j\n",
            "  6.74626051e+02+0.00000000e+00j  6.72115458e+02+0.00000000e+00j\n",
            "  6.56694269e+02+0.00000000e+00j  6.62753609e+02+0.00000000e+00j\n",
            "  6.41117371e+02+0.00000000e+00j  6.48909591e+02+0.00000000e+00j\n",
            "  6.59874494e+02+0.00000000e+00j  6.65404194e+02+0.00000000e+00j\n",
            "  6.13877935e+02+0.00000000e+00j  6.29169603e+02+0.00000000e+00j\n",
            "  6.52987970e+02+0.00000000e+00j  6.24901108e+02+0.00000000e+00j\n",
            "  6.20546557e+02+0.00000000e+00j  6.32062585e+02+0.00000000e+00j\n",
            "  6.33583443e+02+0.00000000e+00j  6.19515717e+02+0.00000000e+00j\n",
            "  6.07628763e+02+0.00000000e+00j  6.02572980e+02+0.00000000e+00j\n",
            "  5.99510194e+02+0.00000000e+00j  5.74969287e+02+0.00000000e+00j\n",
            "  5.81293077e+02+0.00000000e+00j  5.94948996e+02+0.00000000e+00j\n",
            "  5.87252090e+02+0.00000000e+00j  5.89701933e+02+0.00000000e+00j\n",
            "  5.91481174e+02+0.00000000e+00j  5.66263528e+02+0.00000000e+00j\n",
            "  5.61898258e+02+0.00000000e+00j  5.68675591e+02+0.00000000e+00j\n",
            "  3.59381726e+02+0.00000000e+00j  5.57816839e+02+0.00000000e+00j\n",
            "  3.62675919e+02+0.00000000e+00j  5.48686361e+02+0.00000000e+00j\n",
            "  3.65711879e+02+0.00000000e+00j  5.56309851e+02+0.00000000e+00j\n",
            "  5.47601680e+02+0.00000000e+00j  3.72573461e+02+0.00000000e+00j\n",
            "  3.74058624e+02+0.00000000e+00j  5.40001103e+02+0.00000000e+00j\n",
            "  5.37393320e+02+0.00000000e+00j  5.38302707e+02+0.00000000e+00j\n",
            "  5.34657586e+02+0.00000000e+00j  5.30195790e+02+0.00000000e+00j\n",
            "  3.78750888e+02+0.00000000e+00j  5.27539753e+02+0.00000000e+00j\n",
            "  5.14358668e+02+0.00000000e+00j  5.11979274e+02+0.00000000e+00j\n",
            "  5.22742347e+02+0.00000000e+00j  5.21350906e+02+0.00000000e+00j\n",
            "  3.84701364e+02+0.00000000e+00j  3.87500743e+02+0.00000000e+00j\n",
            "  5.04220574e+02+0.00000000e+00j  5.08366247e+02+0.00000000e+00j\n",
            "  5.00756936e+02+0.00000000e+00j  3.92023369e+02+0.00000000e+00j\n",
            "  4.97832651e+02+0.00000000e+00j  4.85408803e+02+0.00000000e+00j\n",
            "  4.90840615e+02+0.00000000e+00j  3.94546980e+02+0.00000000e+00j\n",
            "  4.80599123e+02+0.00000000e+00j  4.94006054e+02+0.00000000e+00j\n",
            "  4.73375390e+02+0.00000000e+00j  3.99028732e+02+0.00000000e+00j\n",
            "  4.00918479e+02+0.00000000e+00j  4.78657991e+02+0.00000000e+00j\n",
            "  4.06238640e+02+0.00000000e+00j  4.69295550e+02+0.00000000e+00j\n",
            "  4.65675081e+02+0.00000000e+00j  4.58988911e+02+0.00000000e+00j\n",
            "  4.10898452e+02+0.00000000e+00j  4.54195202e+02+0.00000000e+00j\n",
            "  4.50608930e+02+0.00000000e+00j  4.46976377e+02+0.00000000e+00j\n",
            "  4.32613328e+02+0.00000000e+00j  4.14648163e+02+0.00000000e+00j\n",
            "  4.24075389e+02+0.00000000e+00j  4.25875225e+02+0.00000000e+00j\n",
            "  4.62616613e+02+0.00000000e+00j  4.21753002e+02+0.00000000e+00j\n",
            "  4.35977210e+02+0.00000000e+00j  4.49544949e+02+0.00000000e+00j\n",
            "  4.20376755e+02+0.00000000e+00j  4.37004064e+02+0.00000000e+00j\n",
            "  3.38901190e+02+0.00000000e+00j  3.43097827e+02+0.00000000e+00j\n",
            "  3.45884102e+02+0.00000000e+00j  3.49115254e+02+0.00000000e+00j\n",
            "  3.54816913e+02+0.00000000e+00j  3.47316971e+02+0.00000000e+00j\n",
            "  3.54672924e+02+0.00000000e+00j  2.97545590e+02+0.00000000e+00j\n",
            "  3.34479252e+02+0.00000000e+00j  3.30772990e+02+0.00000000e+00j\n",
            "  3.24740279e+02+0.00000000e+00j  3.33125620e+02+0.00000000e+00j\n",
            "  3.19503440e+02+0.00000000e+00j  3.01518362e+02+0.00000000e+00j\n",
            "  3.06519251e+02+0.00000000e+00j  3.02907664e+02+0.00000000e+00j\n",
            "  3.27397306e+02+0.00000000e+00j  3.11684418e+02+0.00000000e+00j\n",
            "  3.18101050e+02+0.00000000e+00j  3.08849915e+02+0.00000000e+00j\n",
            "  3.16604894e+02+0.00000000e+00j  3.10432551e+02+0.00000000e+00j\n",
            "  2.85690836e+02+0.00000000e+00j  2.93530175e+02+0.00000000e+00j\n",
            "  2.80106665e+02+0.00000000e+00j  2.79023844e+02+0.00000000e+00j\n",
            "  2.76582424e+02+0.00000000e+00j  2.72999381e+02+0.00000000e+00j\n",
            "  2.70412524e+02+0.00000000e+00j  2.68158706e+02+0.00000000e+00j\n",
            "  2.65702633e+02+0.00000000e+00j  1.97178366e+02+0.00000000e+00j\n",
            "  2.61151558e+02+0.00000000e+00j  2.59647132e+02+0.00000000e+00j\n",
            "  2.55948916e+02+0.00000000e+00j  2.54693695e+02+0.00000000e+00j\n",
            "  2.51455391e+02+0.00000000e+00j  2.44130654e+02+0.00000000e+00j\n",
            "  2.00851147e+02+0.00000000e+00j  2.42803776e+02+0.00000000e+00j\n",
            "  2.38897448e+02+0.00000000e+00j  2.08281161e+02+0.00000000e+00j\n",
            "  2.06392301e+02+0.00000000e+00j  2.14455928e+02+0.00000000e+00j\n",
            "  2.12705118e+02+0.00000000e+00j  2.36024132e+02+0.00000000e+00j\n",
            "  2.03597655e+02+0.00000000e+00j  2.18505145e+02+0.00000000e+00j\n",
            "  2.22089250e+02+0.00000000e+00j  2.26074576e+02+0.00000000e+00j\n",
            "  2.32380182e+02+0.00000000e+00j  2.30769780e+02+0.00000000e+00j\n",
            "  2.52541287e+02+0.00000000e+00j  2.21159039e+02+0.00000000e+00j\n",
            "  2.25244407e+02+0.00000000e+00j  2.31248833e+02+0.00000000e+00j\n",
            "  1.92866306e+02+0.00000000e+00j  1.93394841e+02+0.00000000e+00j\n",
            "  1.88601641e+02+0.00000000e+00j  1.94275401e+02+0.00000000e+00j\n",
            "  1.91472387e+02+0.00000000e+00j  1.83549308e+02+0.00000000e+00j\n",
            "  1.87344470e+02+0.00000000e+00j  1.85462825e+02+0.00000000e+00j\n",
            "  1.80375683e+02+0.00000000e+00j  1.73001148e+02+0.00000000e+00j\n",
            "  1.77286170e+02+0.00000000e+00j  1.75888769e+02+0.00000000e+00j\n",
            "  1.79810780e+02+0.00000000e+00j  1.70628697e+02+0.00000000e+00j\n",
            "  1.68138036e+02+0.00000000e+00j  9.94149181e+01+0.00000000e+00j\n",
            "  1.59743451e+02+0.00000000e+00j  1.63266946e+02+0.00000000e+00j\n",
            "  1.64764710e+02+0.00000000e+00j  1.66925768e+02+0.00000000e+00j\n",
            "  1.56356508e+02+0.00000000e+00j  1.01367667e+02+0.00000000e+00j\n",
            "  1.02886344e+02+0.00000000e+00j  1.50309191e+02+0.00000000e+00j\n",
            "  1.49510203e+02+0.00000000e+00j  1.53772498e+02+0.00000000e+00j\n",
            "  1.54643127e+02+0.00000000e+00j  1.04441470e+02+0.00000000e+00j\n",
            "  1.44553670e+02+0.00000000e+00j  1.07448850e+02+0.00000000e+00j\n",
            "  1.40738658e+02+0.00000000e+00j  1.38093189e+02+0.00000000e+00j\n",
            "  1.37469067e+02+0.00000000e+00j  1.42228864e+02+0.00000000e+00j\n",
            "  1.42315887e+02+0.00000000e+00j  1.09366627e+02+0.00000000e+00j\n",
            "  1.10310967e+02+0.00000000e+00j  1.14436998e+02+0.00000000e+00j\n",
            "  1.13163123e+02+0.00000000e+00j  1.12678679e+02+0.00000000e+00j\n",
            "  1.31737591e+02+0.00000000e+00j  1.29788608e+02+0.00000000e+00j\n",
            "  1.19067663e+02+0.00000000e+00j  1.28003020e+02+0.00000000e+00j\n",
            "  1.24614256e+02+0.00000000e+00j  1.21494229e+02+0.00000000e+00j\n",
            "  1.20796355e+02+0.00000000e+00j  1.22311192e+02+0.00000000e+00j\n",
            "  1.32259597e+02+0.00000000e+00j  1.23220014e+02+0.00000000e+00j\n",
            "  9.48394412e+01+0.00000000e+00j  9.30896563e+01+0.00000000e+00j\n",
            "  8.93253892e+01+0.00000000e+00j  8.53202158e+01+0.00000000e+00j\n",
            "  8.64085056e+01+0.00000000e+00j  9.20223988e+01+0.00000000e+00j\n",
            "  8.75612879e+01+0.00000000e+00j  8.38594601e+01+0.00000000e+00j\n",
            "  8.32734902e+01+0.00000000e+00j  8.18351250e+01+0.00000000e+00j\n",
            "  8.01922744e+01+0.00000000e+00j  8.22457174e+01+0.00000000e+00j\n",
            "  7.89969923e+01+0.00000000e+00j  7.74250652e+01+0.00000000e+00j\n",
            "  7.56581134e+01+0.00000000e+00j  7.94702196e+01+0.00000000e+00j\n",
            "  7.46810942e+01+0.00000000e+00j  7.27445441e+01+0.00000000e+00j\n",
            "  6.84673980e+01+0.00000000e+00j  6.62684928e+01+0.00000000e+00j\n",
            "  7.01233737e+01+0.00000000e+00j  6.55191956e+01+0.00000000e+00j\n",
            "  5.45387031e+01+0.00000000e+00j  6.39642676e+01+0.00000000e+00j\n",
            "  7.03115172e+01+0.00000000e+00j  5.73885740e+01+0.00000000e+00j\n",
            "  6.28122314e+01+0.00000000e+00j  6.20105958e+01+0.00000000e+00j\n",
            "  5.93514552e+01+0.00000000e+00j  5.67485952e+01+0.00000000e+00j\n",
            "  6.08191441e+01+0.00000000e+00j  5.85662177e+01+0.00000000e+00j\n",
            "  6.31543377e+01+0.00000000e+00j  6.03205202e+01+0.00000000e+00j\n",
            "  5.60343448e+01+0.00000000e+00j  5.39402836e+01+0.00000000e+00j\n",
            "  5.98194939e+01+0.00000000e+00j  5.24395190e+01+0.00000000e+00j\n",
            "  5.13672855e+01+0.00000000e+00j  5.18187018e+01+0.00000000e+00j\n",
            "  4.98994457e+01+0.00000000e+00j  4.93716579e+01+0.00000000e+00j\n",
            "  4.81845633e+01+0.00000000e+00j  4.65351992e+01+0.00000000e+00j\n",
            "  4.72986539e+01+0.00000000e+00j  4.53895683e+01+0.00000000e+00j\n",
            "  4.48160039e+01+0.00000000e+00j  4.36890032e+01+0.00000000e+00j\n",
            "  4.24197796e+01+0.00000000e+00j  4.12783474e+01+0.00000000e+00j\n",
            "  4.00935597e+01+0.00000000e+00j  3.91205438e+01+0.00000000e+00j\n",
            "  4.20770440e+01+0.00000000e+00j  3.76366727e+01+0.00000000e+00j\n",
            "  3.79506309e+01+0.00000000e+00j  3.68745175e+01+0.00000000e+00j\n",
            "  3.63605184e+01+0.00000000e+00j  3.54763157e+01+0.00000000e+00j\n",
            "  3.45401239e+01+0.00000000e+00j  3.28716364e+01+0.00000000e+00j\n",
            "  3.35177430e+01+0.00000000e+00j  3.31712096e+01+0.00000000e+00j\n",
            "  3.10893386e+01+0.00000000e+00j  3.20534382e+01+0.00000000e+00j\n",
            "  3.08969708e+01+0.00000000e+00j  2.97473097e+01+0.00000000e+00j\n",
            "  3.00894839e+01+0.00000000e+00j  2.86839710e+01+0.00000000e+00j\n",
            "  2.89825200e+01+0.00000000e+00j  2.79813471e+01+0.00000000e+00j\n",
            "  2.72790663e+01+0.00000000e+00j  1.46400771e+01+0.00000000e+00j\n",
            "  1.46916653e+01+0.00000000e+00j  2.71225794e+01+0.00000000e+00j\n",
            "  2.68882192e+01+0.00000000e+00j  2.60958442e+01+0.00000000e+00j\n",
            "  1.51364185e+01+0.00000000e+00j  1.58857630e+01+0.00000000e+00j\n",
            "  1.53787610e+01+0.00000000e+00j  1.55523508e+01+0.00000000e+00j\n",
            "  2.57673880e+01+0.00000000e+00j  2.33762802e+01+0.00000000e+00j\n",
            "  2.20010573e+01+0.00000000e+00j  2.37880700e+01+0.00000000e+00j\n",
            "  2.51835000e+01+0.00000000e+00j  2.46934013e+01+0.00000000e+00j\n",
            "  2.13027056e+01+0.00000000e+00j  1.69954252e+01+0.00000000e+00j\n",
            "  1.88912114e+01+0.00000000e+00j  2.00977779e+01+0.00000000e+00j\n",
            "  1.70807782e+01+0.00000000e+00j  1.83513743e+01+0.00000000e+00j\n",
            "  2.48655822e+01+0.00000000e+00j  2.18008889e+01+0.00000000e+00j\n",
            "  1.80449078e+01+0.00000000e+00j  2.40005223e+01+0.00000000e+00j\n",
            "  1.98085492e+01+0.00000000e+00j  1.97778560e+01+0.00000000e+00j\n",
            "  1.76636843e+01+0.00000000e+00j  1.73154351e+01+0.00000000e+00j\n",
            "  1.24196443e+01+0.00000000e+00j  1.27334584e+01+0.00000000e+00j\n",
            "  1.31517762e+01+0.00000000e+00j  1.14660698e+01+0.00000000e+00j\n",
            "  1.43749142e+01+0.00000000e+00j  1.16431253e+01+0.00000000e+00j\n",
            "  1.35970827e+01+0.00000000e+00j  1.40537924e+01+0.00000000e+00j\n",
            "  1.39763865e+01+0.00000000e+00j  1.35759320e+01+0.00000000e+00j\n",
            "  5.89992685e-01+0.00000000e+00j  3.48223562e-01+0.00000000e+00j\n",
            "  4.34179170e-01+0.00000000e+00j  4.02136439e-01+0.00000000e+00j\n",
            "  6.59339416e-01+0.00000000e+00j  9.53462501e-01+0.00000000e+00j\n",
            "  1.21802201e+00+0.00000000e+00j  7.54018931e-01+0.00000000e+00j\n",
            "  1.10896494e+01+0.00000000e+00j  1.31733626e+00+0.00000000e+00j\n",
            "  1.09024468e+01+0.00000000e+00j  1.06515290e+01+0.00000000e+00j\n",
            "  2.93685703e+00+0.00000000e+00j  3.40092095e+00+0.00000000e+00j\n",
            "  1.00521570e+01+0.00000000e+00j  1.04159034e+01+0.00000000e+00j\n",
            "  1.04227735e+01+0.00000000e+00j  9.91725686e+00+0.00000000e+00j\n",
            "  9.44694861e+00+0.00000000e+00j  3.71899111e+00+0.00000000e+00j\n",
            "  3.61385324e+00+0.00000000e+00j  9.21035457e+00+0.00000000e+00j\n",
            "  4.15529911e+00+0.00000000e+00j  4.64925596e+00+0.00000000e+00j\n",
            "  4.30954983e+00+0.00000000e+00j  5.23969750e+00+0.00000000e+00j\n",
            "  8.86392505e+00+0.00000000e+00j  8.70691214e+00+0.00000000e+00j\n",
            "  4.82796278e+00+0.00000000e+00j  4.36328849e+00+0.00000000e+00j\n",
            "  5.77518249e+00+0.00000000e+00j  5.94384956e+00+0.00000000e+00j\n",
            "  6.10278883e+00+0.00000000e+00j  6.21673862e+00+0.00000000e+00j\n",
            "  6.15867596e+00+0.00000000e+00j  8.03678350e+00+0.00000000e+00j\n",
            "  8.53276423e+00+0.00000000e+00j  7.81109484e+00+0.00000000e+00j\n",
            "  8.13446306e+00+0.00000000e+00j  7.64050510e+00+0.00000000e+00j\n",
            "  4.86440421e+00+0.00000000e+00j  5.59854064e+00+0.00000000e+00j\n",
            "  6.98232401e+00+0.00000000e+00j  6.87494248e+00+0.00000000e+00j\n",
            "  6.86556552e+00+0.00000000e+00j  7.69608247e+00+0.00000000e+00j\n",
            "  8.19906667e+00+0.00000000e+00j  8.38591052e+00+0.00000000e+00j\n",
            "  7.06558606e+00+0.00000000e+00j  1.43050891e-01+0.00000000e+00j\n",
            "  1.09021114e-01+0.00000000e+00j  9.38824516e-02+0.00000000e+00j\n",
            "  3.55358182e+00+0.00000000e+00j  3.19241809e+00+0.00000000e+00j\n",
            "  1.35359782e+00+0.00000000e+00j  3.00518792e+00+0.00000000e+00j\n",
            "  2.09765739e+00+0.00000000e+00j  2.43893060e+00+0.00000000e+00j\n",
            "  2.24399427e+00+0.00000000e+00j  2.31644360e+00+0.00000000e+00j\n",
            "  1.98281859e+00+0.00000000e+00j  2.90039532e+00+0.00000000e+00j\n",
            "  2.59510875e+00+0.00000000e+00j  1.48539510e+00+0.00000000e+00j\n",
            "  1.70306647e+00+0.00000000e+00j  1.77286551e+00+0.00000000e+00j\n",
            "  1.51589092e+00+0.00000000e+00j  2.83760701e+00+0.00000000e+00j\n",
            "  2.87891484e+00+0.00000000e+00j  2.49602755e+00+0.00000000e+00j\n",
            "  2.67340803e+00+0.00000000e+00j  1.54420772e+00+0.00000000e+00j\n",
            "  1.75319072e+00+0.00000000e+00j  1.51264230e+00+0.00000000e+00j\n",
            "  1.01323368e-02+0.00000000e+00j  2.15949233e+00+0.00000000e+00j\n",
            "  1.71396901e+00+0.00000000e+00j -8.62112798e-13+0.00000000e+00j\n",
            "  6.59931379e-13+0.00000000e+00j  5.82485532e-13+2.06442327e-13j\n",
            "  5.82485532e-13-2.06442327e-13j  1.62081726e-14+3.45174563e-13j\n",
            "  1.62081726e-14-3.45174563e-13j -3.51903361e-13+0.00000000e+00j\n",
            " -2.14712845e-13+0.00000000e+00j  2.53695898e-14+3.74712592e-14j\n",
            "  2.53695898e-14-3.74712592e-14j  2.65616285e-14+0.00000000e+00j\n",
            " -2.87301016e-14+3.69420493e-14j -2.87301016e-14-3.69420493e-14j\n",
            " -7.00605994e-14+0.00000000e+00j -5.45970686e-14+0.00000000e+00j\n",
            " -4.08013514e-14+0.00000000e+00j -6.22340922e-15+0.00000000e+00j\n",
            "  0.00000000e+00+0.00000000e+00j  0.00000000e+00+0.00000000e+00j\n",
            "  0.00000000e+00+0.00000000e+00j  0.00000000e+00+0.00000000e+00j\n",
            "  0.00000000e+00+0.00000000e+00j  0.00000000e+00+0.00000000e+00j\n",
            "  0.00000000e+00+0.00000000e+00j  0.00000000e+00+0.00000000e+00j\n",
            "  0.00000000e+00+0.00000000e+00j  0.00000000e+00+0.00000000e+00j\n",
            "  0.00000000e+00+0.00000000e+00j  0.00000000e+00+0.00000000e+00j\n",
            "  0.00000000e+00+0.00000000e+00j  0.00000000e+00+0.00000000e+00j\n",
            "  0.00000000e+00+0.00000000e+00j  0.00000000e+00+0.00000000e+00j\n",
            "  0.00000000e+00+0.00000000e+00j  0.00000000e+00+0.00000000e+00j\n",
            "  0.00000000e+00+0.00000000e+00j  0.00000000e+00+0.00000000e+00j\n",
            "  0.00000000e+00+0.00000000e+00j  0.00000000e+00+0.00000000e+00j\n",
            "  0.00000000e+00+0.00000000e+00j  0.00000000e+00+0.00000000e+00j\n",
            "  0.00000000e+00+0.00000000e+00j  0.00000000e+00+0.00000000e+00j\n",
            "  0.00000000e+00+0.00000000e+00j  0.00000000e+00+0.00000000e+00j\n",
            "  0.00000000e+00+0.00000000e+00j  0.00000000e+00+0.00000000e+00j\n",
            "  0.00000000e+00+0.00000000e+00j  0.00000000e+00+0.00000000e+00j\n",
            "  0.00000000e+00+0.00000000e+00j  0.00000000e+00+0.00000000e+00j\n",
            "  0.00000000e+00+0.00000000e+00j  0.00000000e+00+0.00000000e+00j\n",
            "  0.00000000e+00+0.00000000e+00j  0.00000000e+00+0.00000000e+00j\n",
            "  0.00000000e+00+0.00000000e+00j  0.00000000e+00+0.00000000e+00j\n",
            "  0.00000000e+00+0.00000000e+00j  0.00000000e+00+0.00000000e+00j]\n"
          ]
        }
      ]
    },
    {
      "cell_type": "code",
      "source": [
        "type(eigenvalues)"
      ],
      "metadata": {
        "colab": {
          "base_uri": "https://localhost:8080/"
        },
        "id": "zyBVSbv8RQDL",
        "outputId": "d2883531-c219-44ff-c307-08390c81bcd3"
      },
      "execution_count": null,
      "outputs": [
        {
          "output_type": "execute_result",
          "data": {
            "text/plain": [
              "numpy.ndarray"
            ]
          },
          "metadata": {},
          "execution_count": 214
        }
      ]
    },
    {
      "cell_type": "code",
      "source": [
        "# sortedeig=eigenvalues.sort()\n",
        "plt.figure(figsize=(10, 5))\n",
        "plt.plot(range(0, eigenvalues.shape[0]),  eigenvalues)\n",
        "\n",
        "plt.xlabel('X- axis')\n",
        "plt.ylabel('Eigen Values')\n",
        "plt.title('Scree Plot')\n",
        "plt.legend()\n",
        "plt.show()"
      ],
      "metadata": {
        "colab": {
          "base_uri": "https://localhost:8080/",
          "height": 539
        },
        "id": "-JSK2QOuCGgp",
        "outputId": "1cb4e5eb-04d9-4fee-bdd6-34ab77942b27"
      },
      "execution_count": null,
      "outputs": [
        {
          "output_type": "stream",
          "name": "stderr",
          "text": [
            "/usr/local/lib/python3.10/dist-packages/matplotlib/cbook/__init__.py:1335: ComplexWarning: Casting complex values to real discards the imaginary part\n",
            "  return np.asarray(x, float)\n",
            "WARNING:matplotlib.legend:No artists with labels found to put in legend.  Note that artists whose label start with an underscore are ignored when legend() is called with no argument.\n"
          ]
        },
        {
          "output_type": "display_data",
          "data": {
            "text/plain": [
              "<Figure size 1000x500 with 1 Axes>"
            ],
            "image/png": "[encoded data removed]"
          },
          "metadata": {}
        }
      ]
    },
    {
      "cell_type": "code",
      "source": [
        "import numpy as np\n",
        "from sklearn.decomposition import PCA\n",
        "# from sklearn.preprocessing import StandardScaler           # Imported the Libraries\n",
        "\n",
        "print(pixels.shape[0])\n",
        "\n",
        "\n",
        "# scaler = StandardScaler()\n",
        "\n",
        "X=pixels\n",
        "\n",
        "n_components = 100\n",
        "pca = PCA(n_components=n_components)                               # initializing the PCA object\n",
        "\n",
        "X_pca = pca.fit_transform(X)                                          # Transforming the X and extracting the Principal Components\n",
        "\n",
        "explained_variance_ratio = pca.explained_variance_ratio_\n",
        "print(\"Explained Variance Ratio:\", explained_variance_ratio)\n",
        "\n",
        "principal_components = pca.components_\n",
        "print(\"Principal Components:\", principal_components)                    # Printing the Principal Components\n",
        "\n",
        "principal_components.shape[0]\n"
      ],
      "metadata": {
        "colab": {
          "base_uri": "https://localhost:8080/"
        },
        "id": "WSj2e_aHvG66",
        "outputId": "826b34d4-9501-4436-b2d6-d4b21189841b"
      },
      "execution_count": null,
      "outputs": [
        {
          "output_type": "stream",
          "name": "stdout",
          "text": [
            "10240\n",
            "Explained Variance Ratio: [0.07556024 0.04945092 0.04083971 0.03316595 0.02909561 0.02649068\n",
            " 0.02380179 0.02149893 0.02036717 0.01962152 0.01807747 0.01687834\n",
            " 0.01590551 0.01531729 0.01413283 0.01296289 0.0126283  0.01225501\n",
            " 0.0109868  0.01070063 0.01018888 0.00988257 0.00951987 0.00935609\n",
            " 0.00901099 0.00872104 0.00855935 0.00836651 0.00783761 0.00752606\n",
            " 0.00726724 0.00719596 0.00703133 0.0069182  0.00675898 0.00645252\n",
            " 0.00610836 0.00589396 0.00588087 0.00571395 0.00558686 0.00541407\n",
            " 0.00535714 0.00531373 0.00514551 0.00494506 0.00474187 0.00465032\n",
            " 0.00454555 0.00443352 0.00436664 0.00429183 0.00426973 0.00419761\n",
            " 0.00407578 0.00399741 0.00385114 0.00376138 0.00362215 0.0035627\n",
            " 0.00342305 0.00338878 0.0033444  0.00328664 0.00327753 0.00320914\n",
            " 0.00311621 0.00306084 0.00303315 0.00299914 0.00296738 0.00289693\n",
            " 0.00280932 0.00276011 0.00273359 0.00271005 0.00261208 0.002566\n",
            " 0.00252548 0.00248979 0.00245979 0.00237181 0.00229799 0.00227976\n",
            " 0.00223013 0.00218904 0.00217175 0.00216322 0.00214205 0.00209725\n",
            " 0.00204671 0.00199352 0.00193926 0.00190373 0.00189417 0.00186737\n",
            " 0.00179798 0.00177527 0.00171042 0.00169991]\n",
            "Principal Components: [[-5.24858270e-18 -1.46038017e-18 -2.18438794e-18 ... -3.63417158e-05\n",
            "  -0.00000000e+00 -0.00000000e+00]\n",
            " [-5.54436706e-17 -1.77843678e-17 -2.33188385e-17 ... -3.08366310e-05\n",
            "  -0.00000000e+00 -0.00000000e+00]\n",
            " [ 2.18457311e-17  5.59098417e-18  2.50474475e-18 ...  2.14635590e-05\n",
            "   0.00000000e+00  0.00000000e+00]\n",
            " ...\n",
            " [ 2.46069738e-17 -5.83897682e-17  7.86942298e-17 ... -3.19548029e-04\n",
            "  -0.00000000e+00 -0.00000000e+00]\n",
            " [-1.21018574e-17  2.03282601e-17 -2.93351068e-17 ...  2.15655584e-04\n",
            "  -0.00000000e+00 -0.00000000e+00]\n",
            " [-3.11580463e-17 -3.13594786e-17 -1.73348729e-17 ... -4.04493535e-05\n",
            "   0.00000000e+00  0.00000000e+00]]\n"
          ]
        },
        {
          "output_type": "execute_result",
          "data": {
            "text/plain": [
              "100"
            ]
          },
          "metadata": {},
          "execution_count": 216
        }
      ]
    },
    {
      "cell_type": "code",
      "source": [
        "\n",
        "# X_pca = pca.fit_transform(X)\n",
        "\n",
        "X_reconstructed = pca.inverse_transform(X_pca)                # Applying the Reverse PCA\n",
        "\n",
        "\n",
        "\n",
        "print(X_reconstructed.shape[0])            # printing the total no of data points"
      ],
      "metadata": {
        "colab": {
          "base_uri": "https://localhost:8080/"
        },
        "id": "gS5MCGL0w6ZZ",
        "outputId": "ddb3be49-f081-42fa-cb8f-a3e29ca3723d"
      },
      "execution_count": null,
      "outputs": [
        {
          "output_type": "stream",
          "name": "stdout",
          "text": [
            "10240\n"
          ]
        }
      ]
    },
    {
      "cell_type": "code",
      "source": [
        "type(X_reconstructed)"
      ],
      "metadata": {
        "colab": {
          "base_uri": "https://localhost:8080/"
        },
        "id": "o5wdLE5u0QyR",
        "outputId": "3be1c36d-d4a0-4281-d5c0-097e12ccc516"
      },
      "execution_count": null,
      "outputs": [
        {
          "output_type": "execute_result",
          "data": {
            "text/plain": [
              "numpy.ndarray"
            ]
          },
          "metadata": {},
          "execution_count": 218
        }
      ]
    },
    {
      "cell_type": "code",
      "source": [
        "\n",
        "# import numpy as np\n",
        "# X = torch.from_numpy(X_reconstructed)\n",
        "# print(type(X))"
      ],
      "metadata": {
        "id": "JoGhrFFF0iHP"
      },
      "execution_count": null,
      "outputs": []
    },
    {
      "cell_type": "code",
      "source": [
        "# X.shape[1]"
      ],
      "metadata": {
        "id": "V9m3usvD3xG4"
      },
      "execution_count": null,
      "outputs": []
    },
    {
      "cell_type": "code",
      "source": [
        "df = pd.DataFrame(X_reconstructed)"
      ],
      "metadata": {
        "id": "SAAAXiiB421T"
      },
      "execution_count": null,
      "outputs": []
    },
    {
      "cell_type": "code",
      "source": [
        "Data = CustomImageDataset(labels.values, df.values)\n",
        "fig, axes = plt.subplots(3, 3, figsize=(8, 8))                      # Printing the images which are from Reverse PCA\n",
        "\n",
        "for idx in range(9):\n",
        "    pixel_values, label = Data[idx]\n",
        "    image = pixel_values.reshape(28, 28)\n",
        "\n",
        "    row_idx = idx // 3\n",
        "    col_idx = idx % 3\n",
        "    axes[row_idx, col_idx].imshow(image, cmap='gray')\n",
        "    axes[row_idx, col_idx].set_title(f\"Label: {label}\")\n",
        "    axes[row_idx, col_idx].axis('off')\n",
        "\n",
        "plt.tight_layout()\n",
        "plt.show()"
      ],
      "metadata": {
        "colab": {
          "base_uri": "https://localhost:8080/",
          "height": 807
        },
        "id": "vgO5vrr30DbQ",
        "outputId": "e521826e-382a-4550-8020-40133b751594"
      },
      "execution_count": null,
      "outputs": [
        {
          "output_type": "display_data",
          "data": {
            "text/plain": [
              "<Figure size 800x800 with 9 Axes>"
            ],
            "image/png": "[encoded data removed]"
          },
          "metadata": {}
        }
      ]
    },
    {
      "cell_type": "markdown",
      "source": [
        "## Applying the Auto encoding and Decoding to the KMINST data set"
      ],
      "metadata": {
        "id": "-aGXlarszYYs"
      }
    },
    {
      "cell_type": "code",
      "source": [
        "Data = CustomImageDataset(labels.values, pixels.values)"
      ],
      "metadata": {
        "id": "E92yBp0j6u6r"
      },
      "execution_count": null,
      "outputs": []
    },
    {
      "cell_type": "code",
      "source": [
        "Data.pixels"
      ],
      "metadata": {
        "colab": {
          "base_uri": "https://localhost:8080/"
        },
        "id": "FVrK6YYA6x-r",
        "outputId": "18b0beb5-5749-494e-cfd6-b91247f56277"
      },
      "execution_count": null,
      "outputs": [
        {
          "output_type": "execute_result",
          "data": {
            "text/plain": [
              "array([[0, 0, 0, ..., 0, 0, 0],\n",
              "       [0, 0, 0, ..., 0, 0, 0],\n",
              "       [0, 0, 0, ..., 0, 0, 0],\n",
              "       ...,\n",
              "       [0, 0, 0, ..., 0, 0, 0],\n",
              "       [0, 0, 0, ..., 0, 0, 0],\n",
              "       [0, 0, 0, ..., 0, 0, 0]])"
            ]
          },
          "metadata": {},
          "execution_count": 224
        }
      ]
    },
    {
      "cell_type": "markdown",
      "source": [
        "### Initializing and Training The Autoencoder Model"
      ],
      "metadata": {
        "id": "R5bXjho3BpfK"
      }
    },
    {
      "cell_type": "code",
      "source": [],
      "metadata": {
        "id": "z_tQCxruDi3d"
      },
      "execution_count": null,
      "outputs": []
    },
    {
      "cell_type": "code",
      "source": [
        "import torch\n",
        "import torch.nn as nn\n",
        "import torch.optim as optim\n",
        "import numpy as np\n",
        "\n",
        "\n",
        "class Autoencoder(nn.Module):\n",
        "    def __init__(self, input_size, encoding_dim):\n",
        "        super(Autoencoder, self).__init__()\n",
        "        self.encoder = nn.Sequential(\n",
        "            nn.Linear(input_size, encoding_dim),\n",
        "            nn.ReLU()\n",
        "        )\n",
        "        self.decoder = nn.Sequential(\n",
        "            nn.Linear(encoding_dim, input_size),\n",
        "            nn.ReLU()\n",
        "        )\n",
        "\n",
        "    def forward(self, x):\n",
        "        encoded = self.encoder(x)\n",
        "        decoded = self.decoder(encoded)\n",
        "        return decoded\n",
        "\n",
        "input_size = 784  # 28x28 images\n",
        "encoding_dim = 32   # 32 bit encoding\n",
        "batch_size=64      # batch size 64\n",
        "\n",
        "\n",
        "model = Autoencoder(input_size, encoding_dim)    # Auto Encoder Model\n",
        "\n",
        "criterion = nn.MSELoss()\n",
        "optimizer = optim.Adam(model.parameters(), lr=0.001)   # Defining the loss function and optimizer\n",
        "\n",
        "Data = CustomImageDataset(labels.values, pixels.values)\n",
        "\n",
        "# dataloader = DataLoader(Data, batch_size=batch_size, shuffle=True)\n",
        "\n",
        "\n",
        "\n",
        "\n",
        "\n"
      ],
      "metadata": {
        "id": "79Lpdb0IhKMk"
      },
      "execution_count": null,
      "outputs": []
    },
    {
      "cell_type": "code",
      "source": [
        "from torch.utils.data import DataLoader, Subset\n",
        "\n",
        "\n",
        "train_size = int(0.7 * len(Data))\n",
        "val_size = int(0.1 * len(Data))\n",
        "test_size = len(Data) - train_size - val_size\n",
        "\n",
        "train_dataset, val_dataset, test_dataset = torch.utils.data.random_split(Data, [train_size, val_size, test_size])\n",
        "\n",
        "batch_size = 64\n",
        "\n"
      ],
      "metadata": {
        "id": "o5Wyn3esFQ_c"
      },
      "execution_count": null,
      "outputs": []
    },
    {
      "cell_type": "code",
      "source": [
        "train_dataloader = DataLoader(train_dataset, batch_size=64, shuffle=True)\n",
        "val_dataloader = DataLoader(val_dataset, batch_size=64, shuffle=False)             # batch size is 64   TRAIN VALIDATION TEST\n",
        "test_dataloader = DataLoader(test_dataset, batch_size=64, shuffle=False)"
      ],
      "metadata": {
        "id": "x-ny0o92FFpk"
      },
      "execution_count": null,
      "outputs": []
    },
    {
      "cell_type": "code",
      "source": [
        "# Training loop\n",
        "import matplotlib.pyplot as plt\n",
        "\n",
        "train_losses = []\n",
        "val_losses = []\n",
        "\n",
        "num_epochs = 10\n",
        "for epoch in range(num_epochs):\n",
        "    train_loss = 0.0\n",
        "\n",
        "    model.train()\n",
        "    for data in train_dataloader:\n",
        "        inputs, _ = data\n",
        "        optimizer.zero_grad()\n",
        "        inputs = inputs.to(torch.float32)\n",
        "        outputs = model(inputs)\n",
        "\n",
        "        # outputs = model(inputs)\n",
        "        loss = criterion(outputs, inputs)\n",
        "        loss.backward()\n",
        "        optimizer.step()\n",
        "        train_loss += loss.item()\n",
        "\n",
        "\n",
        "    model.eval()\n",
        "    with torch.no_grad():\n",
        "        val_loss = 0.0\n",
        "        for data in val_dataloader:\n",
        "            inputs, _ = data\n",
        "            inputs = inputs.to(torch.float32)\n",
        "            outputs = model(inputs)\n",
        "            loss = criterion(outputs, inputs)\n",
        "            val_loss += loss.item()\n",
        "    train_losses.append(train_loss/len(train_dataloader))\n",
        "    val_losses.append(val_loss/len(val_dataloader))\n",
        "\n",
        "    print(f\"Epoch [{epoch+1}/{num_epochs}], \"\n",
        "          f\"Train Loss: {train_loss/len(train_dataloader):.4f}, \"\n",
        "          f\"Validation Loss: {val_loss/len(val_dataloader):.4f}\")\n",
        "\n",
        "# Test phase\n",
        "model.eval()\n",
        "test_loss = 0.0\n",
        "with torch.no_grad():\n",
        "    for data in test_dataloader:\n",
        "        inputs, _ = data\n",
        "        inputs = inputs.to(torch.float32)\n",
        "        outputs = model(inputs)\n",
        "        loss = criterion(outputs, inputs)\n",
        "        test_loss += loss.item()\n",
        "\n",
        "print(f\"Test Loss: {test_loss/len(test_dataloader):.4f}\")\n"
      ],
      "metadata": {
        "colab": {
          "base_uri": "https://localhost:8080/"
        },
        "id": "tuwVLcPfEyr9",
        "outputId": "b01096a6-7c70-4955-b71b-860e0d4b328c"
      },
      "execution_count": null,
      "outputs": [
        {
          "output_type": "stream",
          "name": "stdout",
          "text": [
            "Epoch [1/10], Train Loss: 4149.6919, Validation Loss: 3303.4294\n",
            "Epoch [2/10], Train Loss: 2906.8247, Validation Loss: 2597.4863\n",
            "Epoch [3/10], Train Loss: 2433.9273, Validation Loss: 2313.1870\n",
            "Epoch [4/10], Train Loss: 2217.0120, Validation Loss: 2163.1215\n",
            "Epoch [5/10], Train Loss: 2079.2315, Validation Loss: 2051.5749\n",
            "Epoch [6/10], Train Loss: 1968.4490, Validation Loss: 1952.5363\n",
            "Epoch [7/10], Train Loss: 1883.7940, Validation Loss: 1897.7652\n",
            "Epoch [8/10], Train Loss: 1834.1159, Validation Loss: 1860.2964\n",
            "Epoch [9/10], Train Loss: 1798.8492, Validation Loss: 1833.3627\n",
            "Epoch [10/10], Train Loss: 1772.2957, Validation Loss: 1810.0352\n",
            "Test Loss: 1815.4749\n"
          ]
        }
      ]
    },
    {
      "cell_type": "code",
      "source": [
        "\n",
        "\n",
        "# Plotting the losses\n",
        "plt.figure(figsize=(10, 5))\n",
        "plt.plot(range(1, num_epochs+1), train_losses, label='Training Loss')\n",
        "plt.plot(range(1, num_epochs+1), val_losses, label='Validation Loss')\n",
        "plt.xlabel('Epoch')\n",
        "plt.ylabel('Loss')\n",
        "plt.title('Training and Validation Loss')\n",
        "plt.legend()\n",
        "plt.show()\n"
      ],
      "metadata": {
        "colab": {
          "base_uri": "https://localhost:8080/",
          "height": 487
        },
        "id": "C03uIvb1JDTB",
        "outputId": "45a91b55-ab94-41e0-96ca-4dd251d82e1b"
      },
      "execution_count": null,
      "outputs": [
        {
          "output_type": "display_data",
          "data": {
            "text/plain": [
              "<Figure size 1000x500 with 1 Axes>"
            ],
            "image/png": "[encoded data removed]"
          },
          "metadata": {}
        }
      ]
    },
    {
      "cell_type": "code",
      "source": [
        "\n"
      ],
      "metadata": {
        "id": "6_Z5SZIyDWYV"
      },
      "execution_count": null,
      "outputs": []
    },
    {
      "cell_type": "markdown",
      "source": [
        "### Applying the Encoder on the data for checking"
      ],
      "metadata": {
        "id": "610Fw5xBB1j5"
      }
    },
    {
      "cell_type": "code",
      "source": [
        "model.eval()\n",
        "\n",
        "# Pass your input data through the encoder layers\n",
        "with torch.no_grad():\n",
        "    encoded_data = model.encoder(batch_data)\n"
      ],
      "metadata": {
        "id": "fwUbl4y789ez"
      },
      "execution_count": null,
      "outputs": []
    },
    {
      "cell_type": "code",
      "source": [
        "encoded_data.shape[0]"
      ],
      "metadata": {
        "colab": {
          "base_uri": "https://localhost:8080/"
        },
        "id": "Sorl9t8c9ueL",
        "outputId": "447fc0fc-6735-4ac9-8e19-d23c1c7e944d"
      },
      "execution_count": null,
      "outputs": [
        {
          "output_type": "execute_result",
          "data": {
            "text/plain": [
              "64"
            ]
          },
          "metadata": {},
          "execution_count": 231
        }
      ]
    },
    {
      "cell_type": "code",
      "source": [
        "encoded_data.shape[1]      #### encoded into 32 feature data"
      ],
      "metadata": {
        "colab": {
          "base_uri": "https://localhost:8080/"
        },
        "id": "x4jHrm0Q90QK",
        "outputId": "d3bd76d0-8693-4a80-e215-f496d6258990"
      },
      "execution_count": null,
      "outputs": [
        {
          "output_type": "execute_result",
          "data": {
            "text/plain": [
              "32"
            ]
          },
          "metadata": {},
          "execution_count": 232
        }
      ]
    },
    {
      "cell_type": "markdown",
      "source": [
        "### Applying the Encoder on Entire Data and converting it to 32 Features"
      ],
      "metadata": {
        "id": "Q4wdc657B-0J"
      }
    },
    {
      "cell_type": "code",
      "source": [
        "import torch\n",
        "import pandas as pd\n",
        "from torch.utils.data import DataLoader\n",
        "\n",
        "\n",
        "model.eval()\n",
        "\n",
        "# Create a DataLoader for your dataset\n",
        "dataloader = DataLoader(Data, batch_size=batch_size, shuffle=False)\n",
        "\n",
        "# Initialize a list to store encoded representations\n",
        "encoded_data_list = []\n",
        "\n",
        "# Iterate through batches and encode data\n",
        "with torch.no_grad():\n",
        "    for batch_data, _ in dataloader:\n",
        "        # Flatten the batch_data if needed\n",
        "        # batch_data = batch_data.view(batch_data.size(0), -1)\n",
        "        batch_data = batch_data.to(torch.float32)\n",
        "        # Pass batch_data through the encoder\n",
        "        encoded_data =model.encoder(batch_data)\n",
        "\n",
        "        # Append encoded data to the list\n",
        "        encoded_data_list.append(encoded_data.numpy())\n",
        "\n",
        "encoded_data_array = np.concatenate(encoded_data_list, axis=0)\n",
        "\n",
        "\n",
        "encoded_df = pd.DataFrame(encoded_data_array)\n",
        "\n",
        "print(encoded_df)\n"
      ],
      "metadata": {
        "colab": {
          "base_uri": "https://localhost:8080/"
        },
        "id": "XL-jwGa7-Vsi",
        "outputId": "c52f80b8-fe9c-4d54-958b-5a172d575125"
      },
      "execution_count": null,
      "outputs": [
        {
          "output_type": "stream",
          "name": "stdout",
          "text": [
            "               0           1            2           3           4   \\\n",
            "0      543.918762  553.335999  1114.679199  607.959961  251.163101   \n",
            "1      602.610718  385.379303   790.232788  283.431885  572.083435   \n",
            "2      440.127350  311.148621   577.130066  197.982925  653.580994   \n",
            "3       86.506058  141.922409   399.690338  518.487061  137.450043   \n",
            "4      143.025604  351.065918   619.343018  535.214172  245.658600   \n",
            "...           ...         ...          ...         ...         ...   \n",
            "10235  615.491211  774.573364    97.325516  367.446716  570.533752   \n",
            "10236  373.601807  345.423889   212.364990  253.039154    0.000000   \n",
            "10237  336.296265  458.081665   618.912781  659.998108   82.693954   \n",
            "10238  246.627441   46.593410   204.969482  327.205688  142.149063   \n",
            "10239  402.655945  319.027588   225.692993  242.905136   44.592056   \n",
            "\n",
            "               5           6           7           8           9   ...  \\\n",
            "0      518.922180  591.405212   99.429321  648.962952  658.533569  ...   \n",
            "1      623.313843  431.748383  308.865509  406.134552  403.101685  ...   \n",
            "2      243.538849  346.903839  432.250946  536.232605  671.827576  ...   \n",
            "3      510.307434  505.885132  250.048187  362.402771  696.665771  ...   \n",
            "4      319.151855  413.407318  163.442245  313.618896  295.555847  ...   \n",
            "...           ...         ...         ...         ...         ...  ...   \n",
            "10235  503.697998  542.581421  295.048004  291.633301  647.556030  ...   \n",
            "10236  382.707794  290.169281  335.077576  329.472168  143.353165  ...   \n",
            "10237  130.882065  495.244751  246.220261  362.952118  467.759888  ...   \n",
            "10238  310.596680  138.366058    0.000000   93.946083  115.129318  ...   \n",
            "10239   55.697151   68.617371    0.000000  204.023102  405.324158  ...   \n",
            "\n",
            "               22   23          24          25          26          27  \\\n",
            "0      137.885895  0.0  282.428162  735.330566  659.246948  344.799042   \n",
            "1      272.944916  0.0  496.868988  468.142120  351.867859  457.308228   \n",
            "2      603.061829  0.0  388.401581  365.697449  633.398621  392.876190   \n",
            "3      378.047302  0.0  337.955872  208.325363  284.872528  484.341278   \n",
            "4      538.378845  0.0  375.930328  348.169312  688.021912  655.099243   \n",
            "...           ...  ...         ...         ...         ...         ...   \n",
            "10235  659.250305  0.0  673.682861  372.269836  357.267456  755.174194   \n",
            "10236  230.890503  0.0   63.148972  245.792435  309.636353  256.815857   \n",
            "10237  122.548111  0.0  421.509644  282.743073  354.030426   96.145844   \n",
            "10238  410.959351  0.0  275.033234  298.105164  183.853897  454.901031   \n",
            "10239  162.878082  0.0    0.000000   71.941193  287.353302  396.611664   \n",
            "\n",
            "               28           29          30   31  \n",
            "0      139.779556   249.174103  472.688904  0.0  \n",
            "1      426.815765   506.552521   28.692902  0.0  \n",
            "2      565.153015  1053.422729  436.133514  0.0  \n",
            "3      458.352661   537.394836  276.639496  0.0  \n",
            "4      542.917419   260.085938  377.923645  0.0  \n",
            "...           ...          ...         ...  ...  \n",
            "10235  429.097351   349.634338  783.399841  0.0  \n",
            "10236  221.357986   306.028656  342.892944  0.0  \n",
            "10237  311.217773   141.291473  198.607330  0.0  \n",
            "10238  170.097748   136.340424  367.751587  0.0  \n",
            "10239  163.093842    28.639462  410.688721  0.0  \n",
            "\n",
            "[10240 rows x 32 columns]\n"
          ]
        }
      ]
    },
    {
      "cell_type": "markdown",
      "source": [
        "### Decoding the Entire Data again to 784 features"
      ],
      "metadata": {
        "id": "N1mZdSZHCHo2"
      }
    },
    {
      "cell_type": "code",
      "source": [
        "\n",
        "model.eval()\n",
        "\n",
        "\n",
        "decoded_data_list = []\n",
        "\n",
        "for index, row in encoded_df.iterrows():\n",
        "    # Convert the row to a PyTorch tensor\n",
        "    encoded_data = torch.tensor(row.values, dtype=torch.float32)\n",
        "\n",
        "\n",
        "    decoded_data =model.decoder(encoded_data)\n",
        "\n",
        "    decoded_data_list.append(decoded_data.detach().numpy())\n",
        "\n",
        "# Convert the list of decoded data to a NumPy array\n",
        "decoded_data_array = np.array(decoded_data_list)\n",
        "decoded_df = pd.DataFrame(decoded_data_array)\n",
        "\n"
      ],
      "metadata": {
        "id": "cQgGTz0--0Ni"
      },
      "execution_count": null,
      "outputs": []
    },
    {
      "cell_type": "markdown",
      "source": [
        "### now printing the images from Autoencoder Data"
      ],
      "metadata": {
        "id": "J4B6JeptCUZR"
      }
    },
    {
      "cell_type": "code",
      "source": [
        "Data = CustomImageDataset(labels.values, decoded_df.values)\n",
        "fig, axes = plt.subplots(3, 3, figsize=(8, 8))\n",
        "\n",
        "for idx in range(9):\n",
        "    pixel_values, label = Data[idx]\n",
        "    image = pixel_values.reshape(28, 28)\n",
        "\n",
        "    row_idx = idx // 3\n",
        "    col_idx = idx % 3\n",
        "    axes[row_idx, col_idx].imshow(image, cmap='gray')\n",
        "    axes[row_idx, col_idx].set_title(f\"Label: {label}\")\n",
        "    axes[row_idx, col_idx].axis('off')\n",
        "\n",
        "plt.tight_layout()\n",
        "plt.show()"
      ],
      "metadata": {
        "colab": {
          "base_uri": "https://localhost:8080/",
          "height": 807
        },
        "id": "sbysdX9j_YxC",
        "outputId": "e214b98c-70c4-4828-f818-0f55511260bc"
      },
      "execution_count": null,
      "outputs": [
        {
          "output_type": "display_data",
          "data": {
            "text/plain": [
              "<Figure size 800x800 with 9 Axes>"
            ],
            "image/png": "[encoded data removed]"
          },
          "metadata": {}
        }
      ]
    }
  ]
}