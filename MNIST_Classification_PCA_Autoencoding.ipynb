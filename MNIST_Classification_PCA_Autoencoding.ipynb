{
  "nbformat": 4,
  "nbformat_minor": 0,
  "metadata": {
    "colab": {
      "provenance": [],
      "gpuType": "T4"
    },
    "kernelspec": {
      "name": "python3",
      "display_name": "Python 3"
    },
    "language_info": {
      "name": "python"
    },
    "accelerator": "GPU"
  },
  "cells": [
    {
      "cell_type": "code",
      "execution_count": 1,
      "metadata": {
        "id": "Us14dCvHgNGD"
      },
      "outputs": [],
      "source": [
        "\n",
        "import torch\n",
        "import torch.nn as nn\n",
        "import torchvision\n",
        "import torchvision.transforms as transforms\n",
        "import matplotlib.pyplot as plt\n",
        "import torch\n",
        "from torch.utils.data import Dataset\n",
        "from torchvision import datasets\n",
        "from torchvision.transforms import ToTensor\n",
        "import matplotlib.pyplot as plt\n",
        "from torch import nn\n",
        "from torch.utils.data import DataLoader\n",
        "from torchvision import datasets, transforms\n",
        "import pandas as pd\n"
      ]
    },
    {
      "cell_type": "code",
      "source": [
        "from google.colab import drive\n",
        "drive.mount('/content/drive')"
      ],
      "metadata": {
        "colab": {
          "base_uri": "https://localhost:8080/"
        },
        "id": "1m-P3Gbx5q8S",
        "outputId": "c67b08ed-8d81-4022-c3a5-42b3fdd6dc7e"
      },
      "execution_count": 2,
      "outputs": [
        {
          "output_type": "stream",
          "name": "stdout",
          "text": [
            "Mounted at /content/drive\n"
          ]
        }
      ]
    },
    {
      "cell_type": "code",
      "source": [
        "data = pd.read_csv(\"/content/drive/MyDrive/Colab Workspace /Kannada-MNIST/Dig-MNIST.csv\")\n",
        "data.shape"
      ],
      "metadata": {
        "colab": {
          "base_uri": "https://localhost:8080/"
        },
        "id": "_-5lR6QGrAbL",
        "outputId": "a27ff6c4-9de8-4988-8caf-6f0e31b48118"
      },
      "execution_count": 3,
      "outputs": [
        {
          "output_type": "execute_result",
          "data": {
            "text/plain": [
              "(10240, 785)"
            ]
          },
          "metadata": {},
          "execution_count": 3
        }
      ]
    },
    {
      "cell_type": "code",
      "source": [
        "labels = data['label']"
      ],
      "metadata": {
        "id": "-QRuPQijrLGi"
      },
      "execution_count": 4,
      "outputs": []
    },
    {
      "cell_type": "code",
      "source": [
        "# some parameters\n",
        "input_size = 784 # 28x28\n",
        "hidden_size = 500\n",
        "num_classes = 10\n",
        "num_epochs = 2\n",
        "batch_size = 128\n",
        "learning_rate = 0.001"
      ],
      "metadata": {
        "id": "fm77GoEygm_o"
      },
      "execution_count": 5,
      "outputs": []
    },
    {
      "cell_type": "code",
      "source": [
        "device = torch.device('cuda' if torch.cuda.is_available() else 'cpu')"
      ],
      "metadata": {
        "id": "rGhvWKjzgYKO"
      },
      "execution_count": 6,
      "outputs": []
    },
    {
      "cell_type": "code",
      "source": [
        "pixels= data.drop('label',axis =1)"
      ],
      "metadata": {
        "id": "Lo5GZGoE6_Xg"
      },
      "execution_count": 7,
      "outputs": []
    },
    {
      "cell_type": "code",
      "source": [
        "labels"
      ],
      "metadata": {
        "colab": {
          "base_uri": "https://localhost:8080/"
        },
        "id": "uim99fbI7Mu3",
        "outputId": "b33b7afe-9b35-4423-e702-d052b9c64bc4"
      },
      "execution_count": 8,
      "outputs": [
        {
          "output_type": "execute_result",
          "data": {
            "text/plain": [
              "0        0\n",
              "1        1\n",
              "2        2\n",
              "3        3\n",
              "4        4\n",
              "        ..\n",
              "10235    5\n",
              "10236    6\n",
              "10237    7\n",
              "10238    8\n",
              "10239    9\n",
              "Name: label, Length: 10240, dtype: int64"
            ]
          },
          "metadata": {},
          "execution_count": 8
        }
      ]
    },
    {
      "cell_type": "code",
      "source": [
        "pixels"
      ],
      "metadata": {
        "colab": {
          "base_uri": "https://localhost:8080/",
          "height": 424
        },
        "id": "hBtKDBxj7KJg",
        "outputId": "43a8f6bf-a301-4375-a8d3-ee8f47f4196d"
      },
      "execution_count": 9,
      "outputs": [
        {
          "output_type": "execute_result",
          "data": {
            "text/plain": [
              "       pixel0  pixel1  pixel2  pixel3  pixel4  pixel5  pixel6  pixel7  pixel8  \\\n",
              "0           0       0       0       0       0       0       0       0       0   \n",
              "1           0       0       0       0       0       0       0       0       0   \n",
              "2           0       0       0       0       0       0       0       0       0   \n",
              "3           0       0       0       0       0       0       0       0       0   \n",
              "4           0       0       0       0       0       0       0       0       0   \n",
              "...       ...     ...     ...     ...     ...     ...     ...     ...     ...   \n",
              "10235       0       0       0       0       0       0       0       0       0   \n",
              "10236       0       0       0       0       0       0       0       0       0   \n",
              "10237       0       0       0       0       0       0       0       0       0   \n",
              "10238       0       0       0       0       0       0       0       0       0   \n",
              "10239       0       0       0       0       0       0       0       0       0   \n",
              "\n",
              "       pixel9  ...  pixel774  pixel775  pixel776  pixel777  pixel778  \\\n",
              "0           0  ...         0         0         0         0         0   \n",
              "1           0  ...         0         0         0         0         0   \n",
              "2           0  ...         0         0         0         0         0   \n",
              "3           0  ...         0         0         0         0         0   \n",
              "4           0  ...         0         0         0         0         0   \n",
              "...       ...  ...       ...       ...       ...       ...       ...   \n",
              "10235       0  ...         0         0         0         0         0   \n",
              "10236       0  ...         0         0         0         0         0   \n",
              "10237       0  ...         0         0         0         0         0   \n",
              "10238       0  ...         0         0         0         0         0   \n",
              "10239       0  ...         0         0         0         0         0   \n",
              "\n",
              "       pixel779  pixel780  pixel781  pixel782  pixel783  \n",
              "0             0         0         0         0         0  \n",
              "1             0         0         0         0         0  \n",
              "2             0         0         0         0         0  \n",
              "3             0         0         0         0         0  \n",
              "4             0         0         0         0         0  \n",
              "...         ...       ...       ...       ...       ...  \n",
              "10235         0         0         0         0         0  \n",
              "10236         0         0         0         0         0  \n",
              "10237         0         0         0         0         0  \n",
              "10238         0         0         0         0         0  \n",
              "10239         0         0         0         0         0  \n",
              "\n",
              "[10240 rows x 784 columns]"
            ],
            "text/html": [
              "\n",
              "  <div id=\"df-4b863e35-463c-4abc-b821-ca6e19497b31\" class=\"colab-df-container\">\n",
              "    <div>\n",
              "<style scoped>\n",
              "    .dataframe tbody tr th:only-of-type {\n",
              "        vertical-align: middle;\n",
              "    }\n",
              "\n",
              "    .dataframe tbody tr th {\n",
              "        vertical-align: top;\n",
              "    }\n",
              "\n",
              "    .dataframe thead th {\n",
              "        text-align: right;\n",
              "    }\n",
              "</style>\n",
              "<table border=\"1\" class=\"dataframe\">\n",
              "  <thead>\n",
              "    <tr style=\"text-align: right;\">\n",
              "      <th></th>\n",
              "      <th>pixel0</th>\n",
              "      <th>pixel1</th>\n",
              "      <th>pixel2</th>\n",
              "      <th>pixel3</th>\n",
              "      <th>pixel4</th>\n",
              "      <th>pixel5</th>\n",
              "      <th>pixel6</th>\n",
              "      <th>pixel7</th>\n",
              "      <th>pixel8</th>\n",
              "      <th>pixel9</th>\n",
              "      <th>...</th>\n",
              "      <th>pixel774</th>\n",
              "      <th>pixel775</th>\n",
              "      <th>pixel776</th>\n",
              "      <th>pixel777</th>\n",
              "      <th>pixel778</th>\n",
              "      <th>pixel779</th>\n",
              "      <th>pixel780</th>\n",
              "      <th>pixel781</th>\n",
              "      <th>pixel782</th>\n",
              "      <th>pixel783</th>\n",
              "    </tr>\n",
              "  </thead>\n",
              "  <tbody>\n",
              "    <tr>\n",
              "      <th>0</th>\n",
              "      <td>0</td>\n",
              "      <td>0</td>\n",
              "      <td>0</td>\n",
              "      <td>0</td>\n",
              "      <td>0</td>\n",
              "      <td>0</td>\n",
              "      <td>0</td>\n",
              "      <td>0</td>\n",
              "      <td>0</td>\n",
              "      <td>0</td>\n",
              "      <td>...</td>\n",
              "      <td>0</td>\n",
              "      <td>0</td>\n",
              "      <td>0</td>\n",
              "      <td>0</td>\n",
              "      <td>0</td>\n",
              "      <td>0</td>\n",
              "      <td>0</td>\n",
              "      <td>0</td>\n",
              "      <td>0</td>\n",
              "      <td>0</td>\n",
              "    </tr>\n",
              "    <tr>\n",
              "      <th>1</th>\n",
              "      <td>0</td>\n",
              "      <td>0</td>\n",
              "      <td>0</td>\n",
              "      <td>0</td>\n",
              "      <td>0</td>\n",
              "      <td>0</td>\n",
              "      <td>0</td>\n",
              "      <td>0</td>\n",
              "      <td>0</td>\n",
              "      <td>0</td>\n",
              "      <td>...</td>\n",
              "      <td>0</td>\n",
              "      <td>0</td>\n",
              "      <td>0</td>\n",
              "      <td>0</td>\n",
              "      <td>0</td>\n",
              "      <td>0</td>\n",
              "      <td>0</td>\n",
              "      <td>0</td>\n",
              "      <td>0</td>\n",
              "      <td>0</td>\n",
              "    </tr>\n",
              "    <tr>\n",
              "      <th>2</th>\n",
              "      <td>0</td>\n",
              "      <td>0</td>\n",
              "      <td>0</td>\n",
              "      <td>0</td>\n",
              "      <td>0</td>\n",
              "      <td>0</td>\n",
              "      <td>0</td>\n",
              "      <td>0</td>\n",
              "      <td>0</td>\n",
              "      <td>0</td>\n",
              "      <td>...</td>\n",
              "      <td>0</td>\n",
              "      <td>0</td>\n",
              "      <td>0</td>\n",
              "      <td>0</td>\n",
              "      <td>0</td>\n",
              "      <td>0</td>\n",
              "      <td>0</td>\n",
              "      <td>0</td>\n",
              "      <td>0</td>\n",
              "      <td>0</td>\n",
              "    </tr>\n",
              "    <tr>\n",
              "      <th>3</th>\n",
              "      <td>0</td>\n",
              "      <td>0</td>\n",
              "      <td>0</td>\n",
              "      <td>0</td>\n",
              "      <td>0</td>\n",
              "      <td>0</td>\n",
              "      <td>0</td>\n",
              "      <td>0</td>\n",
              "      <td>0</td>\n",
              "      <td>0</td>\n",
              "      <td>...</td>\n",
              "      <td>0</td>\n",
              "      <td>0</td>\n",
              "      <td>0</td>\n",
              "      <td>0</td>\n",
              "      <td>0</td>\n",
              "      <td>0</td>\n",
              "      <td>0</td>\n",
              "      <td>0</td>\n",
              "      <td>0</td>\n",
              "      <td>0</td>\n",
              "    </tr>\n",
              "    <tr>\n",
              "      <th>4</th>\n",
              "      <td>0</td>\n",
              "      <td>0</td>\n",
              "      <td>0</td>\n",
              "      <td>0</td>\n",
              "      <td>0</td>\n",
              "      <td>0</td>\n",
              "      <td>0</td>\n",
              "      <td>0</td>\n",
              "      <td>0</td>\n",
              "      <td>0</td>\n",
              "      <td>...</td>\n",
              "      <td>0</td>\n",
              "      <td>0</td>\n",
              "      <td>0</td>\n",
              "      <td>0</td>\n",
              "      <td>0</td>\n",
              "      <td>0</td>\n",
              "      <td>0</td>\n",
              "      <td>0</td>\n",
              "      <td>0</td>\n",
              "      <td>0</td>\n",
              "    </tr>\n",
              "    <tr>\n",
              "      <th>...</th>\n",
              "      <td>...</td>\n",
              "      <td>...</td>\n",
              "      <td>...</td>\n",
              "      <td>...</td>\n",
              "      <td>...</td>\n",
              "      <td>...</td>\n",
              "      <td>...</td>\n",
              "      <td>...</td>\n",
              "      <td>...</td>\n",
              "      <td>...</td>\n",
              "      <td>...</td>\n",
              "      <td>...</td>\n",
              "      <td>...</td>\n",
              "      <td>...</td>\n",
              "      <td>...</td>\n",
              "      <td>...</td>\n",
              "      <td>...</td>\n",
              "      <td>...</td>\n",
              "      <td>...</td>\n",
              "      <td>...</td>\n",
              "      <td>...</td>\n",
              "    </tr>\n",
              "    <tr>\n",
              "      <th>10235</th>\n",
              "      <td>0</td>\n",
              "      <td>0</td>\n",
              "      <td>0</td>\n",
              "      <td>0</td>\n",
              "      <td>0</td>\n",
              "      <td>0</td>\n",
              "      <td>0</td>\n",
              "      <td>0</td>\n",
              "      <td>0</td>\n",
              "      <td>0</td>\n",
              "      <td>...</td>\n",
              "      <td>0</td>\n",
              "      <td>0</td>\n",
              "      <td>0</td>\n",
              "      <td>0</td>\n",
              "      <td>0</td>\n",
              "      <td>0</td>\n",
              "      <td>0</td>\n",
              "      <td>0</td>\n",
              "      <td>0</td>\n",
              "      <td>0</td>\n",
              "    </tr>\n",
              "    <tr>\n",
              "      <th>10236</th>\n",
              "      <td>0</td>\n",
              "      <td>0</td>\n",
              "      <td>0</td>\n",
              "      <td>0</td>\n",
              "      <td>0</td>\n",
              "      <td>0</td>\n",
              "      <td>0</td>\n",
              "      <td>0</td>\n",
              "      <td>0</td>\n",
              "      <td>0</td>\n",
              "      <td>...</td>\n",
              "      <td>0</td>\n",
              "      <td>0</td>\n",
              "      <td>0</td>\n",
              "      <td>0</td>\n",
              "      <td>0</td>\n",
              "      <td>0</td>\n",
              "      <td>0</td>\n",
              "      <td>0</td>\n",
              "      <td>0</td>\n",
              "      <td>0</td>\n",
              "    </tr>\n",
              "    <tr>\n",
              "      <th>10237</th>\n",
              "      <td>0</td>\n",
              "      <td>0</td>\n",
              "      <td>0</td>\n",
              "      <td>0</td>\n",
              "      <td>0</td>\n",
              "      <td>0</td>\n",
              "      <td>0</td>\n",
              "      <td>0</td>\n",
              "      <td>0</td>\n",
              "      <td>0</td>\n",
              "      <td>...</td>\n",
              "      <td>0</td>\n",
              "      <td>0</td>\n",
              "      <td>0</td>\n",
              "      <td>0</td>\n",
              "      <td>0</td>\n",
              "      <td>0</td>\n",
              "      <td>0</td>\n",
              "      <td>0</td>\n",
              "      <td>0</td>\n",
              "      <td>0</td>\n",
              "    </tr>\n",
              "    <tr>\n",
              "      <th>10238</th>\n",
              "      <td>0</td>\n",
              "      <td>0</td>\n",
              "      <td>0</td>\n",
              "      <td>0</td>\n",
              "      <td>0</td>\n",
              "      <td>0</td>\n",
              "      <td>0</td>\n",
              "      <td>0</td>\n",
              "      <td>0</td>\n",
              "      <td>0</td>\n",
              "      <td>...</td>\n",
              "      <td>0</td>\n",
              "      <td>0</td>\n",
              "      <td>0</td>\n",
              "      <td>0</td>\n",
              "      <td>0</td>\n",
              "      <td>0</td>\n",
              "      <td>0</td>\n",
              "      <td>0</td>\n",
              "      <td>0</td>\n",
              "      <td>0</td>\n",
              "    </tr>\n",
              "    <tr>\n",
              "      <th>10239</th>\n",
              "      <td>0</td>\n",
              "      <td>0</td>\n",
              "      <td>0</td>\n",
              "      <td>0</td>\n",
              "      <td>0</td>\n",
              "      <td>0</td>\n",
              "      <td>0</td>\n",
              "      <td>0</td>\n",
              "      <td>0</td>\n",
              "      <td>0</td>\n",
              "      <td>...</td>\n",
              "      <td>0</td>\n",
              "      <td>0</td>\n",
              "      <td>0</td>\n",
              "      <td>0</td>\n",
              "      <td>0</td>\n",
              "      <td>0</td>\n",
              "      <td>0</td>\n",
              "      <td>0</td>\n",
              "      <td>0</td>\n",
              "      <td>0</td>\n",
              "    </tr>\n",
              "  </tbody>\n",
              "</table>\n",
              "<p>10240 rows × 784 columns</p>\n",
              "</div>\n",
              "    <div class=\"colab-df-buttons\">\n",
              "\n",
              "  <div class=\"colab-df-container\">\n",
              "    <button class=\"colab-df-convert\" onclick=\"convertToInteractive('df-4b863e35-463c-4abc-b821-ca6e19497b31')\"\n",
              "            title=\"Convert this dataframe to an interactive table.\"\n",
              "            style=\"display:none;\">\n",
              "\n",
              "  <svg xmlns=\"http://www.w3.org/2000/svg\" height=\"24px\" viewBox=\"0 -960 960 960\">\n",
              "    <path d=\"M120-120v-720h720v720H120Zm60-500h600v-160H180v160Zm220 220h160v-160H400v160Zm0 220h160v-160H400v160ZM180-400h160v-160H180v160Zm440 0h160v-160H620v160ZM180-180h160v-160H180v160Zm440 0h160v-160H620v160Z\"/>\n",
              "  </svg>\n",
              "    </button>\n",
              "\n",
              "  <style>\n",
              "    .colab-df-container {\n",
              "      display:flex;\n",
              "      gap: 12px;\n",
              "    }\n",
              "\n",
              "    .colab-df-convert {\n",
              "      background-color: #E8F0FE;\n",
              "      border: none;\n",
              "      border-radius: 50%;\n",
              "      cursor: pointer;\n",
              "      display: none;\n",
              "      fill: #1967D2;\n",
              "      height: 32px;\n",
              "      padding: 0 0 0 0;\n",
              "      width: 32px;\n",
              "    }\n",
              "\n",
              "    .colab-df-convert:hover {\n",
              "      background-color: #E2EBFA;\n",
              "      box-shadow: 0px 1px 2px rgba(60, 64, 67, 0.3), 0px 1px 3px 1px rgba(60, 64, 67, 0.15);\n",
              "      fill: #174EA6;\n",
              "    }\n",
              "\n",
              "    .colab-df-buttons div {\n",
              "      margin-bottom: 4px;\n",
              "    }\n",
              "\n",
              "    [theme=dark] .colab-df-convert {\n",
              "      background-color: #3B4455;\n",
              "      fill: #D2E3FC;\n",
              "    }\n",
              "\n",
              "    [theme=dark] .colab-df-convert:hover {\n",
              "      background-color: #434B5C;\n",
              "      box-shadow: 0px 1px 3px 1px rgba(0, 0, 0, 0.15);\n",
              "      filter: drop-shadow(0px 1px 2px rgba(0, 0, 0, 0.3));\n",
              "      fill: #FFFFFF;\n",
              "    }\n",
              "  </style>\n",
              "\n",
              "    <script>\n",
              "      const buttonEl =\n",
              "        document.querySelector('#df-4b863e35-463c-4abc-b821-ca6e19497b31 button.colab-df-convert');\n",
              "      buttonEl.style.display =\n",
              "        google.colab.kernel.accessAllowed ? 'block' : 'none';\n",
              "\n",
              "      async function convertToInteractive(key) {\n",
              "        const element = document.querySelector('#df-4b863e35-463c-4abc-b821-ca6e19497b31');\n",
              "        const dataTable =\n",
              "          await google.colab.kernel.invokeFunction('convertToInteractive',\n",
              "                                                    [key], {});\n",
              "        if (!dataTable) return;\n",
              "\n",
              "        const docLinkHtml = 'Like what you see? Visit the ' +\n",
              "          '<a target=\"_blank\" href=https://colab.research.google.com/notebooks/data_table.ipynb>data table notebook</a>'\n",
              "          + ' to learn more about interactive tables.';\n",
              "        element.innerHTML = '';\n",
              "        dataTable['output_type'] = 'display_data';\n",
              "        await google.colab.output.renderOutput(dataTable, element);\n",
              "        const docLink = document.createElement('div');\n",
              "        docLink.innerHTML = docLinkHtml;\n",
              "        element.appendChild(docLink);\n",
              "      }\n",
              "    </script>\n",
              "  </div>\n",
              "\n",
              "\n",
              "<div id=\"df-83e8754e-4419-46da-b8a1-4926f7e7666f\">\n",
              "  <button class=\"colab-df-quickchart\" onclick=\"quickchart('df-83e8754e-4419-46da-b8a1-4926f7e7666f')\"\n",
              "            title=\"Suggest charts.\"\n",
              "            style=\"display:none;\">\n",
              "\n",
              "<svg xmlns=\"http://www.w3.org/2000/svg\" height=\"24px\"viewBox=\"0 0 24 24\"\n",
              "     width=\"24px\">\n",
              "    <g>\n",
              "        <path d=\"M19 3H5c-1.1 0-2 .9-2 2v14c0 1.1.9 2 2 2h14c1.1 0 2-.9 2-2V5c0-1.1-.9-2-2-2zM9 17H7v-7h2v7zm4 0h-2V7h2v10zm4 0h-2v-4h2v4z\"/>\n",
              "    </g>\n",
              "</svg>\n",
              "  </button>\n",
              "\n",
              "<style>\n",
              "  .colab-df-quickchart {\n",
              "    background-color: #E8F0FE;\n",
              "    border: none;\n",
              "    border-radius: 50%;\n",
              "    cursor: pointer;\n",
              "    display: none;\n",
              "    fill: #1967D2;\n",
              "    height: 32px;\n",
              "    padding: 0 0 0 0;\n",
              "    width: 32px;\n",
              "  }\n",
              "\n",
              "  .colab-df-quickchart:hover {\n",
              "    background-color: #E2EBFA;\n",
              "    box-shadow: 0px 1px 2px rgba(60, 64, 67, 0.3), 0px 1px 3px 1px rgba(60, 64, 67, 0.15);\n",
              "    fill: #174EA6;\n",
              "  }\n",
              "\n",
              "  [theme=dark] .colab-df-quickchart {\n",
              "    background-color: #3B4455;\n",
              "    fill: #D2E3FC;\n",
              "  }\n",
              "\n",
              "  [theme=dark] .colab-df-quickchart:hover {\n",
              "    background-color: #434B5C;\n",
              "    box-shadow: 0px 1px 3px 1px rgba(0, 0, 0, 0.15);\n",
              "    filter: drop-shadow(0px 1px 2px rgba(0, 0, 0, 0.3));\n",
              "    fill: #FFFFFF;\n",
              "  }\n",
              "</style>\n",
              "\n",
              "  <script>\n",
              "    async function quickchart(key) {\n",
              "      const charts = await google.colab.kernel.invokeFunction(\n",
              "          'suggestCharts', [key], {});\n",
              "    }\n",
              "    (() => {\n",
              "      let quickchartButtonEl =\n",
              "        document.querySelector('#df-83e8754e-4419-46da-b8a1-4926f7e7666f button');\n",
              "      quickchartButtonEl.style.display =\n",
              "        google.colab.kernel.accessAllowed ? 'block' : 'none';\n",
              "    })();\n",
              "  </script>\n",
              "</div>\n",
              "    </div>\n",
              "  </div>\n"
            ]
          },
          "metadata": {},
          "execution_count": 9
        }
      ]
    },
    {
      "cell_type": "code",
      "source": [],
      "metadata": {
        "id": "lq82OJFV-tfZ"
      },
      "execution_count": 9,
      "outputs": []
    },
    {
      "cell_type": "code",
      "source": [
        "import os\n",
        "import pandas as pd\n",
        "from torchvision.io import read_image\n",
        "\n",
        "class CustomImageDataset(Dataset):\n",
        "    def __init__(self, labels, pixels, transform=None, target_transform=None):\n",
        "        self.labels =labels\n",
        "        self.pixels = pixels\n",
        "        self.transform = transform\n",
        "        self.target_transform = target_transform\n",
        "\n",
        "    def __len__(self):\n",
        "        return len(self.labels)\n",
        "\n",
        "    def __getitem__(self, idx):\n",
        "        pixel_val = self.pixels[idx].astype(float)\n",
        "        label_val = self.labels[idx]\n",
        "        if self.transform:\n",
        "            pixel_val = self.transform(pixel_val)\n",
        "        if self.target_transform:\n",
        "            label_val = self.target_transform(label_val)\n",
        "        return pixel_val , label_val\n",
        "\n"
      ],
      "metadata": {
        "id": "vhNEib2cjdbM"
      },
      "execution_count": 10,
      "outputs": []
    },
    {
      "cell_type": "code",
      "source": [
        "Data = CustomImageDataset(labels.values, pixels.values)\n",
        "fig, axes = plt.subplots(3, 3, figsize=(8, 8))\n",
        "\n",
        "for idx in range(9):\n",
        "    pixel_values, label = Data[idx]\n",
        "    image = pixel_values.reshape(28, 28)\n",
        "\n",
        "    row_idx = idx // 3\n",
        "    col_idx = idx % 3\n",
        "    axes[row_idx, col_idx].imshow(image, cmap='gray')\n",
        "    axes[row_idx, col_idx].set_title(f\"Label: {label}\")\n",
        "    axes[row_idx, col_idx].axis('off')\n",
        "\n",
        "plt.tight_layout()\n",
        "plt.show()"
      ],
      "metadata": {
        "id": "PfDTfMuyjdVs",
        "colab": {
          "base_uri": "https://localhost:8080/",
          "height": 807
        },
        "outputId": "22f80a32-5cce-4e13-c93f-c340c68ed2fc"
      },
      "execution_count": 11,
      "outputs": [
        {
          "output_type": "display_data",
          "data": {
            "text/plain": [
              "<Figure size 800x800 with 9 Axes>"
            ],
            "image/png": "[encoded data removed]"
          },
          "metadata": {}
        }
      ]
    },
    {
      "cell_type": "markdown",
      "source": [
        "## Applying PCA"
      ],
      "metadata": {
        "id": "itbT1mgVx73x"
      }
    },
    {
      "cell_type": "code",
      "source": [
        "import numpy as np\n",
        "from sklearn.decomposition import PCA\n",
        "# from sklearn.preprocessing import StandardScaler           # Imported the Libraries\n",
        "\n",
        "print(pixels.shape[0])\n",
        "\n",
        "\n",
        "# scaler = StandardScaler()\n",
        "\n",
        "X=pixels\n",
        "\n",
        "n_components = 6\n",
        "pca = PCA(n_components=n_components)                               # initializing the PCA object\n",
        "\n",
        "X_pca = pca.fit_transform(X)                                          # Transforming the X and extracting the Principal Components\n",
        "\n",
        "explained_variance_ratio = pca.explained_variance_ratio_\n",
        "print(\"Explained Variance Ratio:\", explained_variance_ratio)\n",
        "\n",
        "principal_components = pca.components_\n",
        "print(\"Principal Components:\", principal_components)                    # Printing the Principal Components\n",
        "\n",
        "principal_components.shape[0]\n"
      ],
      "metadata": {
        "colab": {
          "base_uri": "https://localhost:8080/"
        },
        "id": "WSj2e_aHvG66",
        "outputId": "406e88af-bae4-4bb8-ad9e-b8047e244b38"
      },
      "execution_count": 12,
      "outputs": [
        {
          "output_type": "stream",
          "name": "stdout",
          "text": [
            "10240\n",
            "Explained Variance Ratio: [0.07556024 0.04945092 0.04083971 0.03316594 0.02909533 0.02649011]\n",
            "Principal Components: [[ 1.81831744e-18  1.11975845e-18  2.17194672e-20 ... -3.63417257e-05\n",
            "   0.00000000e+00  0.00000000e+00]\n",
            " [ 7.31136684e-17  4.17694285e-17 -6.41910767e-19 ... -3.08363159e-05\n",
            "  -0.00000000e+00 -0.00000000e+00]\n",
            " [-2.16481203e-17 -2.66214141e-19 -2.13753250e-18 ...  2.14645383e-05\n",
            "  -0.00000000e+00 -0.00000000e+00]\n",
            " [ 1.03060365e-17 -1.60394388e-16 -2.10376541e-17 ... -6.06078528e-05\n",
            "   0.00000000e+00  0.00000000e+00]\n",
            " [ 1.83140632e-17 -2.23919668e-17  8.53395278e-17 ... -3.80262504e-05\n",
            "   0.00000000e+00  0.00000000e+00]\n",
            " [-7.05827370e-17  8.65213355e-17  1.61281064e-17 ...  9.44803158e-06\n",
            "   0.00000000e+00  0.00000000e+00]]\n"
          ]
        },
        {
          "output_type": "execute_result",
          "data": {
            "text/plain": [
              "6"
            ]
          },
          "metadata": {},
          "execution_count": 12
        }
      ]
    },
    {
      "cell_type": "code",
      "source": [
        "\n",
        "# X_pca = pca.fit_transform(X)\n",
        "\n",
        "X_reconstructed = pca.inverse_transform(X_pca)                # Applying the Reverse PCA\n",
        "\n",
        "\n",
        "\n",
        "print(X_reconstructed.shape[0])            # printing the total no of data points"
      ],
      "metadata": {
        "colab": {
          "base_uri": "https://localhost:8080/"
        },
        "id": "gS5MCGL0w6ZZ",
        "outputId": "6130e53d-fd95-47f2-8f26-7a509509c286"
      },
      "execution_count": 13,
      "outputs": [
        {
          "output_type": "stream",
          "name": "stdout",
          "text": [
            "10240\n"
          ]
        }
      ]
    },
    {
      "cell_type": "code",
      "source": [
        "type(X_reconstructed)"
      ],
      "metadata": {
        "colab": {
          "base_uri": "https://localhost:8080/"
        },
        "id": "o5wdLE5u0QyR",
        "outputId": "11bc99c5-b1db-425f-bf94-02a0a0700ee2"
      },
      "execution_count": 14,
      "outputs": [
        {
          "output_type": "execute_result",
          "data": {
            "text/plain": [
              "numpy.ndarray"
            ]
          },
          "metadata": {},
          "execution_count": 14
        }
      ]
    },
    {
      "cell_type": "code",
      "source": [
        "\n",
        "# import numpy as np\n",
        "# X = torch.from_numpy(X_reconstructed)\n",
        "# print(type(X))"
      ],
      "metadata": {
        "id": "JoGhrFFF0iHP"
      },
      "execution_count": 15,
      "outputs": []
    },
    {
      "cell_type": "code",
      "source": [
        "# X.shape[1]"
      ],
      "metadata": {
        "id": "V9m3usvD3xG4"
      },
      "execution_count": 16,
      "outputs": []
    },
    {
      "cell_type": "code",
      "source": [
        "df = pd.DataFrame(X_reconstructed)"
      ],
      "metadata": {
        "id": "SAAAXiiB421T"
      },
      "execution_count": 17,
      "outputs": []
    },
    {
      "cell_type": "code",
      "source": [
        "Data = CustomImageDataset(labels.values, df.values)\n",
        "fig, axes = plt.subplots(3, 3, figsize=(8, 8))                      # Printing the images which are from Reverse PCA\n",
        "\n",
        "for idx in range(9):\n",
        "    pixel_values, label = Data[idx]\n",
        "    image = pixel_values.reshape(28, 28)\n",
        "\n",
        "    row_idx = idx // 3\n",
        "    col_idx = idx % 3\n",
        "    axes[row_idx, col_idx].imshow(image, cmap='gray')\n",
        "    axes[row_idx, col_idx].set_title(f\"Label: {label}\")\n",
        "    axes[row_idx, col_idx].axis('off')\n",
        "\n",
        "plt.tight_layout()\n",
        "plt.show()"
      ],
      "metadata": {
        "colab": {
          "base_uri": "https://localhost:8080/",
          "height": 807
        },
        "id": "vgO5vrr30DbQ",
        "outputId": "f0b48783-b90c-4c73-9e95-65ff11fd52cb"
      },
      "execution_count": 18,
      "outputs": [
        {
          "output_type": "display_data",
          "data": {
            "text/plain": [
              "<Figure size 800x800 with 9 Axes>"
            ],
            "image/png": "[encoded data removed]"
          },
          "metadata": {}
        }
      ]
    },
    {
      "cell_type": "markdown",
      "source": [
        "## Applying the Auto encoding and Decoding to the KMINST data set"
      ],
      "metadata": {
        "id": "-aGXlarszYYs"
      }
    },
    {
      "cell_type": "code",
      "source": [
        "Data = CustomImageDataset(labels.values, pixels.values)"
      ],
      "metadata": {
        "id": "E92yBp0j6u6r"
      },
      "execution_count": 26,
      "outputs": []
    },
    {
      "cell_type": "code",
      "source": [
        "Data.pixels"
      ],
      "metadata": {
        "colab": {
          "base_uri": "https://localhost:8080/"
        },
        "id": "FVrK6YYA6x-r",
        "outputId": "f967fb42-6ecb-4d18-ae1e-9f04592d191d"
      },
      "execution_count": 33,
      "outputs": [
        {
          "output_type": "execute_result",
          "data": {
            "text/plain": [
              "array([[0, 0, 0, ..., 0, 0, 0],\n",
              "       [0, 0, 0, ..., 0, 0, 0],\n",
              "       [0, 0, 0, ..., 0, 0, 0],\n",
              "       ...,\n",
              "       [0, 0, 0, ..., 0, 0, 0],\n",
              "       [0, 0, 0, ..., 0, 0, 0],\n",
              "       [0, 0, 0, ..., 0, 0, 0]])"
            ]
          },
          "metadata": {},
          "execution_count": 33
        }
      ]
    },
    {
      "cell_type": "markdown",
      "source": [
        "### Initializing and Training The Autoencoder Model"
      ],
      "metadata": {
        "id": "R5bXjho3BpfK"
      }
    },
    {
      "cell_type": "code",
      "source": [
        "import torch\n",
        "import torch.nn as nn\n",
        "import torch.optim as optim\n",
        "import numpy as np\n",
        "\n",
        "\n",
        "class Autoencoder(nn.Module):\n",
        "    def __init__(self, input_size, encoding_dim):\n",
        "        super(Autoencoder, self).__init__()\n",
        "        self.encoder = nn.Sequential(\n",
        "            nn.Linear(input_size, encoding_dim),\n",
        "            nn.ReLU()\n",
        "        )\n",
        "        self.decoder = nn.Sequential(\n",
        "            nn.Linear(encoding_dim, input_size),\n",
        "            nn.Sigmoid()\n",
        "        )\n",
        "\n",
        "    def forward(self, x):\n",
        "        encoded = self.encoder(x)\n",
        "        decoded = self.decoder(encoded)\n",
        "        return decoded\n",
        "\n",
        "input_size = 784  # 28x28 images\n",
        "encoding_dim = 32   # 32 bit encoding\n",
        "batch_size=64      # batch size 64\n",
        "\n",
        "\n",
        "model = Autoencoder(input_size, encoding_dim)    # Auto Encoder Model\n",
        "\n",
        "criterion = nn.MSELoss()\n",
        "optimizer = optim.Adam(model.parameters(), lr=0.001)   # Defining the loss function and optimizer\n",
        "\n",
        "Data = CustomImageDataset(labels.values, pixels.values)\n",
        "\n",
        "dataloader = DataLoader(Data, batch_size=batch_size, shuffle=True)\n",
        "\n",
        "num_epochs = 100        # no Rpocs are 100\n",
        "for epoch in range(num_epochs):\n",
        "    for batch_data, _ in dataloader:\n",
        "      batch_data = batch_data.to(torch.float32)  # Convert to the float data type\n",
        "      optimizer.zero_grad()\n",
        "      outputs = model(batch_data)\n",
        "\n",
        "\n",
        "\n",
        "      loss = criterion(outputs, batch_data)\n",
        "      loss.backward()\n",
        "      optimizer.step()\n",
        "    print(f'Epoch [{epoch+1}/{num_epochs}], Loss: {loss.item():.4f}')\n",
        "\n",
        "\n"
      ],
      "metadata": {
        "id": "79Lpdb0IhKMk",
        "colab": {
          "base_uri": "https://localhost:8080/"
        },
        "outputId": "e42a32f9-9e17-43d3-fe70-b0d4c611cfcc"
      },
      "execution_count": 68,
      "outputs": [
        {
          "output_type": "stream",
          "name": "stdout",
          "text": [
            "Epoch [1/100], Loss: 6134.2412\n",
            "Epoch [2/100], Loss: 6181.8691\n",
            "Epoch [3/100], Loss: 6017.4277\n",
            "Epoch [4/100], Loss: 6510.0659\n",
            "Epoch [5/100], Loss: 6536.8354\n",
            "Epoch [6/100], Loss: 6170.4355\n",
            "Epoch [7/100], Loss: 5758.1206\n",
            "Epoch [8/100], Loss: 5972.6021\n",
            "Epoch [9/100], Loss: 6505.4390\n",
            "Epoch [10/100], Loss: 6323.8599\n",
            "Epoch [11/100], Loss: 5955.1997\n",
            "Epoch [12/100], Loss: 6251.3140\n",
            "Epoch [13/100], Loss: 6147.8042\n",
            "Epoch [14/100], Loss: 6379.5767\n",
            "Epoch [15/100], Loss: 6450.8711\n",
            "Epoch [16/100], Loss: 6070.8213\n",
            "Epoch [17/100], Loss: 6360.0962\n",
            "Epoch [18/100], Loss: 6311.4570\n",
            "Epoch [19/100], Loss: 5975.0586\n",
            "Epoch [20/100], Loss: 6198.6274\n",
            "Epoch [21/100], Loss: 5603.5308\n",
            "Epoch [22/100], Loss: 5937.2959\n",
            "Epoch [23/100], Loss: 6263.0859\n",
            "Epoch [24/100], Loss: 5756.0527\n",
            "Epoch [25/100], Loss: 5758.9380\n",
            "Epoch [26/100], Loss: 6440.4902\n",
            "Epoch [27/100], Loss: 6259.1787\n",
            "Epoch [28/100], Loss: 6393.5981\n",
            "Epoch [29/100], Loss: 6265.0996\n",
            "Epoch [30/100], Loss: 6274.6455\n",
            "Epoch [31/100], Loss: 6396.2202\n",
            "Epoch [32/100], Loss: 5868.5293\n",
            "Epoch [33/100], Loss: 6085.7168\n",
            "Epoch [34/100], Loss: 6090.3208\n",
            "Epoch [35/100], Loss: 5911.2080\n",
            "Epoch [36/100], Loss: 5966.6528\n",
            "Epoch [37/100], Loss: 6492.6396\n",
            "Epoch [38/100], Loss: 6195.7852\n",
            "Epoch [39/100], Loss: 6381.5132\n",
            "Epoch [40/100], Loss: 6236.6235\n",
            "Epoch [41/100], Loss: 5517.1084\n",
            "Epoch [42/100], Loss: 6063.6924\n",
            "Epoch [43/100], Loss: 5523.4355\n",
            "Epoch [44/100], Loss: 6008.7998\n",
            "Epoch [45/100], Loss: 6420.9902\n",
            "Epoch [46/100], Loss: 5892.5078\n",
            "Epoch [47/100], Loss: 6034.3242\n",
            "Epoch [48/100], Loss: 6188.7480\n",
            "Epoch [49/100], Loss: 6346.2998\n",
            "Epoch [50/100], Loss: 5793.9395\n",
            "Epoch [51/100], Loss: 6121.5215\n",
            "Epoch [52/100], Loss: 6291.0566\n",
            "Epoch [53/100], Loss: 6564.9229\n",
            "Epoch [54/100], Loss: 6406.5508\n",
            "Epoch [55/100], Loss: 6352.7808\n",
            "Epoch [56/100], Loss: 6022.8232\n",
            "Epoch [57/100], Loss: 6173.7515\n",
            "Epoch [58/100], Loss: 5931.6333\n",
            "Epoch [59/100], Loss: 6039.2354\n",
            "Epoch [60/100], Loss: 6101.8828\n",
            "Epoch [61/100], Loss: 6145.5933\n",
            "Epoch [62/100], Loss: 6219.1440\n",
            "Epoch [63/100], Loss: 6130.1670\n",
            "Epoch [64/100], Loss: 6212.2666\n",
            "Epoch [65/100], Loss: 6102.7583\n",
            "Epoch [66/100], Loss: 6199.6040\n",
            "Epoch [67/100], Loss: 6340.5298\n",
            "Epoch [68/100], Loss: 6303.0630\n",
            "Epoch [69/100], Loss: 6321.7827\n",
            "Epoch [70/100], Loss: 6354.8979\n",
            "Epoch [71/100], Loss: 6185.8022\n",
            "Epoch [72/100], Loss: 6218.6938\n",
            "Epoch [73/100], Loss: 5953.1294\n",
            "Epoch [74/100], Loss: 6341.9102\n",
            "Epoch [75/100], Loss: 5756.3188\n",
            "Epoch [76/100], Loss: 6130.0942\n",
            "Epoch [77/100], Loss: 5820.8848\n",
            "Epoch [78/100], Loss: 6190.1733\n",
            "Epoch [79/100], Loss: 6690.2847\n",
            "Epoch [80/100], Loss: 5831.7378\n",
            "Epoch [81/100], Loss: 6391.7588\n",
            "Epoch [82/100], Loss: 5888.7505\n",
            "Epoch [83/100], Loss: 6083.0410\n",
            "Epoch [84/100], Loss: 6416.1421\n",
            "Epoch [85/100], Loss: 5915.5850\n",
            "Epoch [86/100], Loss: 6220.6841\n",
            "Epoch [87/100], Loss: 5820.8022\n",
            "Epoch [88/100], Loss: 5771.1797\n",
            "Epoch [89/100], Loss: 6123.8716\n",
            "Epoch [90/100], Loss: 6132.3130\n",
            "Epoch [91/100], Loss: 6305.3232\n",
            "Epoch [92/100], Loss: 6590.0562\n",
            "Epoch [93/100], Loss: 5939.7705\n",
            "Epoch [94/100], Loss: 6093.9727\n",
            "Epoch [95/100], Loss: 6527.0713\n",
            "Epoch [96/100], Loss: 6575.4326\n",
            "Epoch [97/100], Loss: 5904.9644\n",
            "Epoch [98/100], Loss: 6054.7563\n",
            "Epoch [99/100], Loss: 5787.4180\n",
            "Epoch [100/100], Loss: 5961.2539\n"
          ]
        }
      ]
    },
    {
      "cell_type": "markdown",
      "source": [
        "### Applying the Encoder on the data for checking"
      ],
      "metadata": {
        "id": "610Fw5xBB1j5"
      }
    },
    {
      "cell_type": "code",
      "source": [
        "model.eval()\n",
        "\n",
        "# Pass your input data through the encoder layers\n",
        "with torch.no_grad():\n",
        "    encoded_data = model.encoder(batch_data)\n"
      ],
      "metadata": {
        "id": "fwUbl4y789ez"
      },
      "execution_count": 75,
      "outputs": []
    },
    {
      "cell_type": "code",
      "source": [
        "encoded_data.shape[0]"
      ],
      "metadata": {
        "colab": {
          "base_uri": "https://localhost:8080/"
        },
        "id": "Sorl9t8c9ueL",
        "outputId": "5c8e1f8f-130b-4977-8753-1e13e53082cb"
      },
      "execution_count": 76,
      "outputs": [
        {
          "output_type": "execute_result",
          "data": {
            "text/plain": [
              "64"
            ]
          },
          "metadata": {},
          "execution_count": 76
        }
      ]
    },
    {
      "cell_type": "code",
      "source": [
        "encoded_data.shape[1]      #### encoded into 32 feature data"
      ],
      "metadata": {
        "colab": {
          "base_uri": "https://localhost:8080/"
        },
        "id": "x4jHrm0Q90QK",
        "outputId": "724a8fdb-1bee-4cf2-ad0a-5cb437b9202a"
      },
      "execution_count": 77,
      "outputs": [
        {
          "output_type": "execute_result",
          "data": {
            "text/plain": [
              "32"
            ]
          },
          "metadata": {},
          "execution_count": 77
        }
      ]
    },
    {
      "cell_type": "markdown",
      "source": [
        "### Applying the Encoder on Entire Data and converting it to 32 Features"
      ],
      "metadata": {
        "id": "Q4wdc657B-0J"
      }
    },
    {
      "cell_type": "code",
      "source": [
        "import torch\n",
        "import pandas as pd\n",
        "from torch.utils.data import DataLoader\n",
        "\n",
        "\n",
        "model.eval()\n",
        "\n",
        "# Create a DataLoader for your dataset\n",
        "dataloader = DataLoader(Data, batch_size=batch_size, shuffle=False)\n",
        "\n",
        "# Initialize a list to store encoded representations\n",
        "encoded_data_list = []\n",
        "\n",
        "# Iterate through batches and encode data\n",
        "with torch.no_grad():\n",
        "    for batch_data, _ in dataloader:\n",
        "        # Flatten the batch_data if needed\n",
        "        # batch_data = batch_data.view(batch_data.size(0), -1)\n",
        "        batch_data = batch_data.to(torch.float32)\n",
        "        # Pass batch_data through the encoder\n",
        "        encoded_data =model.encoder(batch_data)\n",
        "\n",
        "        # Append encoded data to the list\n",
        "        encoded_data_list.append(encoded_data.numpy())\n",
        "\n",
        "encoded_data_array = np.concatenate(encoded_data_list, axis=0)\n",
        "\n",
        "\n",
        "encoded_df = pd.DataFrame(encoded_data_array)\n",
        "\n",
        "print(encoded_df)\n"
      ],
      "metadata": {
        "colab": {
          "base_uri": "https://localhost:8080/"
        },
        "id": "XL-jwGa7-Vsi",
        "outputId": "18ea141f-0de5-4873-c9d7-d4554ec2e582"
      },
      "execution_count": 78,
      "outputs": [
        {
          "output_type": "stream",
          "name": "stdout",
          "text": [
            "             0    1          2    3    4          5          6         7   \\\n",
            "0      0.000000  0.0  11.617958  0.0  0.0  16.157875   5.810441  0.000000   \n",
            "1      0.000000  0.0   7.476931  0.0  0.0  18.789280   6.754163  0.000000   \n",
            "2      0.000000  0.0  11.146453  0.0  0.0  19.348837   2.060141  0.000000   \n",
            "3      3.553170  0.0   1.561227  0.0  0.0   9.140028  14.864775  0.000000   \n",
            "4      0.000000  0.0  11.871628  0.0  0.0  19.138527   5.570929  0.000000   \n",
            "...         ...  ...        ...  ...  ...        ...        ...       ...   \n",
            "10235  0.000000  0.0   3.938170  0.0  0.0  20.238405  13.536514  0.000000   \n",
            "10236  1.532927  0.0   6.125024  0.0  0.0   6.901129   7.052642  1.160299   \n",
            "10237  6.632079  0.0   6.913443  0.0  0.0   8.289896  13.339689  0.000000   \n",
            "10238  1.810287  0.0   4.880815  0.0  0.0   7.483541   4.500338  2.413753   \n",
            "10239  0.000000  0.0  14.719845  0.0  0.0  17.509989   1.632298  0.000000   \n",
            "\n",
            "        8    9   ...         22         23   24   25   26   27   28        29  \\\n",
            "0      0.0  0.0  ...  33.184364  40.534885  0.0  0.0  0.0  0.0  0.0  3.397928   \n",
            "1      0.0  0.0  ...  36.450035  43.066658  0.0  0.0  0.0  0.0  0.0  4.462492   \n",
            "2      0.0  0.0  ...  36.503777  41.709377  0.0  0.0  0.0  0.0  0.0  8.088354   \n",
            "3      0.0  0.0  ...  25.320490  41.074203  0.0  0.0  0.0  0.0  0.0  0.000000   \n",
            "4      0.0  0.0  ...  30.536072  37.688354  0.0  0.0  0.0  0.0  0.0  3.995596   \n",
            "...    ...  ...  ...        ...        ...  ...  ...  ...  ...  ...       ...   \n",
            "10235  0.0  0.0  ...  33.614105  42.046886  0.0  0.0  0.0  0.0  0.0  1.778138   \n",
            "10236  0.0  0.0  ...  17.410479  28.067444  0.0  0.0  0.0  0.0  0.0  2.016438   \n",
            "10237  0.0  0.0  ...  20.887037  35.959175  0.0  0.0  0.0  0.0  0.0  0.000000   \n",
            "10238  0.0  0.0  ...  14.540498  21.460510  0.0  0.0  0.0  0.0  0.0  4.120443   \n",
            "10239  0.0  0.0  ...  33.708763  39.719936  0.0  0.0  0.0  0.0  0.0  7.839833   \n",
            "\n",
            "              30   31  \n",
            "0      18.271824  0.0  \n",
            "1      16.262789  0.0  \n",
            "2      12.050092  0.0  \n",
            "3      21.101839  0.0  \n",
            "4      15.015963  0.0  \n",
            "...          ...  ...  \n",
            "10235  17.636683  0.0  \n",
            "10236  11.870117  0.0  \n",
            "10237  19.815489  0.0  \n",
            "10238   6.144241  0.0  \n",
            "10239  14.787427  0.0  \n",
            "\n",
            "[10240 rows x 32 columns]\n"
          ]
        }
      ]
    },
    {
      "cell_type": "markdown",
      "source": [
        "### Decoding the Entire Data again to 784 features"
      ],
      "metadata": {
        "id": "N1mZdSZHCHo2"
      }
    },
    {
      "cell_type": "code",
      "source": [
        "\n",
        "model.eval()\n",
        "\n",
        "\n",
        "decoded_data_list = []\n",
        "\n",
        "for index, row in encoded_df.iterrows():\n",
        "    # Convert the row to a PyTorch tensor\n",
        "    encoded_data = torch.tensor(row.values, dtype=torch.float32)\n",
        "\n",
        "    # Pass the encoded data through the decoder\n",
        "    decoded_data =model.decoder(encoded_data)\n",
        "\n",
        "    # Append decoded data to the list\n",
        "    decoded_data_list.append(decoded_data.detach().numpy())\n",
        "\n",
        "# Convert the list of decoded data to a NumPy array\n",
        "decoded_data_array = np.array(decoded_data_list)\n",
        "decoded_df = pd.DataFrame(decoded_data_array)\n",
        "\n"
      ],
      "metadata": {
        "id": "cQgGTz0--0Ni"
      },
      "execution_count": 79,
      "outputs": []
    },
    {
      "cell_type": "markdown",
      "source": [
        "### now printing the images from Autoencoder Data"
      ],
      "metadata": {
        "id": "J4B6JeptCUZR"
      }
    },
    {
      "cell_type": "code",
      "source": [
        "Data = CustomImageDataset(labels.values, decoded_df.values)\n",
        "fig, axes = plt.subplots(3, 3, figsize=(8, 8))\n",
        "\n",
        "for idx in range(9):\n",
        "    pixel_values, label = Data[idx]\n",
        "    image = pixel_values.reshape(28, 28)\n",
        "\n",
        "    row_idx = idx // 3\n",
        "    col_idx = idx % 3\n",
        "    axes[row_idx, col_idx].imshow(image, cmap='gray')\n",
        "    axes[row_idx, col_idx].set_title(f\"Label: {label}\")\n",
        "    axes[row_idx, col_idx].axis('off')\n",
        "\n",
        "plt.tight_layout()\n",
        "plt.show()"
      ],
      "metadata": {
        "colab": {
          "base_uri": "https://localhost:8080/",
          "height": 807
        },
        "id": "sbysdX9j_YxC",
        "outputId": "ae6cd33e-48f0-4a59-d55c-b369627d8268"
      },
      "execution_count": 80,
      "outputs": [
        {
          "output_type": "display_data",
          "data": {
            "text/plain": [
              "<Figure size 800x800 with 9 Axes>"
            ],
            "image/png": "[encoded data removed]"
          },
          "metadata": {}
        }
      ]
    }
  ]
}