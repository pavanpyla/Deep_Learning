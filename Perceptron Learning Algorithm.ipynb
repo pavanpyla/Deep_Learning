{
  "cells": [
    {
      "cell_type": "markdown",
      "metadata": {
        "id": "-3UyUVdDTfrz"
      },
      "source": [
        "## Perceptron Algorithm\n",
        "In this tutorial, we discuss perceptron algorithm.\n",
        "\n",
        "- A neuron accepts input signals via its dendrites, which pass the electrical signal down to the cell body.\n",
        "- The Perceptron is a classification algorithm for problems with two classes (0 and 1) where a linear equation can be used to separate the two classes.\n",
        "- The Perceptron receives input signals from examples of training data that we weight and combined in a linear equation called the activation.\n",
        "  $$activation = \\sum_i(w_i*x_i)+w_0$$\n",
        "- The activation is then transformed into an output value or prediction using a transfer function, such as the step transfer function.\n",
        "  $$ prediction = 1\\ \\text{if}\\ activation >=0\\ else\\ 0$$\n",
        "- Weight update rule:\n",
        "  $$ w_{i+1} = w_i+\\text{learning rate}*(expected_i-predicted_i)*x_i $$"
      ]
    },
    {
      "cell_type": "code",
      "execution_count": null,
      "metadata": {
        "id": "eHiF_TQUTfr1"
      },
      "outputs": [],
      "source": [
        "# Make a prediction with weights\n",
        "def predict(row, weights):\n",
        "    activation = weights[0]\n",
        "    for i in range(len(row)-1):\n",
        "        activation += weights[i+1]*row[i]\n",
        "    return 1.0 if activation >=0.0 else 0.0"
      ]
    },
    {
      "cell_type": "code",
      "execution_count": null,
      "metadata": {
        "id": "Bf7iGgwtTfr2",
        "outputId": "4812a1f7-84ca-4b73-c072-082945c85744"
      },
      "outputs": [
        {
          "name": "stdout",
          "output_type": "stream",
          "text": [
            "Expected = 0 , Predicted = 0.0 \n",
            "Expected = 0 , Predicted = 0.0 \n",
            "Expected = 0 , Predicted = 0.0 \n",
            "Expected = 0 , Predicted = 0.0 \n",
            "Expected = 0 , Predicted = 0.0 \n",
            "Expected = 1 , Predicted = 1.0 \n",
            "Expected = 1 , Predicted = 1.0 \n",
            "Expected = 1 , Predicted = 1.0 \n",
            "Expected = 1 , Predicted = 1.0 \n",
            "Expected = 1 , Predicted = 1.0 \n"
          ]
        }
      ],
      "source": [
        "# test predictions\n",
        "dataset = [[2.7810836,2.550537003,0],\n",
        "\t[1.465489372,2.362125076,0],\n",
        "\t[3.396561688,4.400293529,0],\n",
        "\t[1.38807019,1.850220317,0],\n",
        "\t[3.06407232,3.005305973,0],\n",
        "\t[7.627531214,2.759262235,1],\n",
        "\t[5.332441248,2.088626775,1],\n",
        "\t[6.922596716,1.77106367,1],\n",
        "\t[8.675418651,-0.242068655,1],\n",
        "\t[7.673756466,3.508563011,1]]\n",
        "weights = [-0.1, 0.206, -0.234]\n",
        "\n",
        "for row in dataset:\n",
        "    prediction = predict(row, weights)\n",
        "    print(f\"Expected = {row[-1]} , Predicted = {prediction} \")"
      ]
    },
    {
      "cell_type": "code",
      "execution_count": null,
      "metadata": {
        "id": "Rg6xqQJ4Tfr2"
      },
      "outputs": [],
      "source": [
        "# estimate Perceptron weights using SGD\n",
        "\n",
        "def training_weights(train, l_rate, n_epochs):\n",
        "    weights = [0.0 for i in range(len(train[0]))]\n",
        "    for epoch in range(n_epochs):\n",
        "        sum_error = 0.0\n",
        "        for row in train:\n",
        "            prediction = predict(row, weights)\n",
        "            error = row[-1]-prediction\n",
        "            sum_error += error**2\n",
        "            weights[0] = weights[0]+l_rate*error\n",
        "            for i in range(len(row)-1):\n",
        "                weights[i+1] = weights[i+1]+l_rate*error*row[i]\n",
        "        print(f\"epoch ={epoch}, lrate = {l_rate: .3f}, error = {sum_error:.3f}\")\n",
        "    return weights"
      ]
    },
    {
      "cell_type": "code",
      "execution_count": null,
      "metadata": {
        "id": "eW5-g842Tfr2",
        "outputId": "fb78a177-144d-4b57-cfe3-bc7c73239613"
      },
      "outputs": [
        {
          "name": "stdout",
          "output_type": "stream",
          "text": [
            "epoch =0, lrate =  0.100, error = 2.000\n",
            "epoch =1, lrate =  0.100, error = 1.000\n",
            "epoch =2, lrate =  0.100, error = 0.000\n",
            "epoch =3, lrate =  0.100, error = 0.000\n",
            "epoch =4, lrate =  0.100, error = 0.000\n",
            "epoch =5, lrate =  0.100, error = 0.000\n",
            "epoch =6, lrate =  0.100, error = 0.000\n",
            "epoch =7, lrate =  0.100, error = 0.000\n",
            "epoch =8, lrate =  0.100, error = 0.000\n",
            "epoch =9, lrate =  0.100, error = 0.000\n",
            "[-0.1, 0.20653640140000007, -0.23418117710000003]\n"
          ]
        }
      ],
      "source": [
        "weights = training_weights(dataset,l_rate=0.1, n_epochs=10)\n",
        "print(weights)"
      ]
    },
    {
      "cell_type": "code",
      "execution_count": null,
      "metadata": {
        "id": "PAFFmomzTfr3",
        "outputId": "ca2616f8-811c-40f5-b7a6-bac0232f7c4b"
      },
      "outputs": [
        {
          "name": "stdout",
          "output_type": "stream",
          "text": [
            "Expected = 0 , Predicted = 0.0 \n",
            "Expected = 0 , Predicted = 0.0 \n",
            "Expected = 0 , Predicted = 0.0 \n",
            "Expected = 0 , Predicted = 0.0 \n",
            "Expected = 0 , Predicted = 0.0 \n",
            "Expected = 1 , Predicted = 1.0 \n",
            "Expected = 1 , Predicted = 1.0 \n",
            "Expected = 1 , Predicted = 1.0 \n",
            "Expected = 1 , Predicted = 1.0 \n",
            "Expected = 1 , Predicted = 1.0 \n"
          ]
        }
      ],
      "source": [
        "for row in dataset:\n",
        "    prediction = predict(row, weights)\n",
        "    print(f\"Expected = {row[-1]} , Predicted = {prediction} \")"
      ]
    },
    {
      "cell_type": "code",
      "execution_count": null,
      "metadata": {
        "id": "ed1y9BsUTfr3"
      },
      "outputs": [],
      "source": [
        "from sklearn import datasets\n",
        "import matplotlib.pyplot as plt"
      ]
    },
    {
      "cell_type": "code",
      "execution_count": null,
      "metadata": {
        "id": "K3ZleUeGTfr3",
        "outputId": "919e2820-d91a-4e4e-b443-1af535f9c915"
      },
      "outputs": [
        {
          "data": {
            "image/png": "[encoded data removed]",
            "text/plain": [
              "<Figure size 720x576 with 1 Axes>"
            ]
          },
          "metadata": {
            "needs_background": "light"
          },
          "output_type": "display_data"
        }
      ],
      "source": [
        "X, y = datasets.make_blobs(n_samples=150,n_features=2,\n",
        "                           centers=2,cluster_std=1.05,\n",
        "                           random_state=2)\n",
        "#Plotting\n",
        "fig = plt.figure(figsize=(10,8))\n",
        "plt.plot(X[:, 0][y == 0], X[:, 1][y == 0], 'r^')\n",
        "plt.plot(X[:, 0][y == 1], X[:, 1][y == 1], 'bs')\n",
        "plt.xlabel(\"feature 1\")\n",
        "plt.ylabel(\"feature 2\")\n",
        "plt.title('Random Classification Data with 2 classes')\n",
        "plt.show()"
      ]
    },
    {
      "cell_type": "code",
      "execution_count": null,
      "metadata": {
        "id": "zs-tbStyTfr3"
      },
      "outputs": [],
      "source": [
        "import numpy as np"
      ]
    },
    {
      "cell_type": "code",
      "execution_count": null,
      "metadata": {
        "id": "Yl3MUm4QTfr3"
      },
      "outputs": [],
      "source": [
        "def step_func(z):\n",
        "        return 1.0 if (z > 0) else 0.0"
      ]
    },
    {
      "cell_type": "code",
      "execution_count": null,
      "metadata": {
        "id": "IhITs0TcTfr4"
      },
      "outputs": [],
      "source": [
        "def perceptron(X,y, lr, n_epochs):\n",
        "    #X-inputs\n",
        "    #y-labels/target\n",
        "    #lr-learning rate\n",
        "    #n_epochs-Number of iterations\n",
        "    m, n = X.shape\n",
        "    #m-number of training examples\n",
        "    #n-Number of features\n",
        "\n",
        "    #initialization of parameters\n",
        "    theta = np.zeros((n+1,1))\n",
        "\n",
        "    #miss_classification list\n",
        "    n_miss_list = []\n",
        "\n",
        "    #training\n",
        "    for epoch in range(n_epochs):\n",
        "        # variable to store missclassified\n",
        "        n_miss = 0\n",
        "\n",
        "        # looping for every examples\n",
        "        for idx, x_i in enumerate(X):\n",
        "            x_i = np.insert(x_i,0,1).reshape(-1,1) #x0=1\n",
        "            y_hat = step_func(np.dot(x_i.T,theta))\n",
        "            #updating rule\n",
        "            if (np.squeeze(y_hat)-y[idx]) != 0:\n",
        "                theta += lr*((y[idx]-y_hat)*x_i)\n",
        "\n",
        "                # Incrementing by 1\n",
        "                n_miss += 1\n",
        "\n",
        "        n_miss_list.append(n_miss)\n",
        "\n",
        "    return theta, n_miss_list"
      ]
    },
    {
      "cell_type": "code",
      "execution_count": null,
      "metadata": {
        "id": "QOPEsp83Tfr4"
      },
      "outputs": [],
      "source": [
        "# plotting decision boundary\n",
        "# theta.X = 0 is decision boundary\n",
        "\n",
        "def plot_decision_boundary(X,theta):\n",
        "    # X-Inputs\n",
        "    #theta-parameters\n",
        "\n",
        "    #The line y=mx+c\n",
        "    # theta0.X0+theta1.X1+theta2.X2=0 is the decision boundary\n",
        "    x1 = [min(X[:,0]), max(X[:,0])]\n",
        "    m = -theta[1]/theta[2]\n",
        "    c = -theta[0]/theta[2]\n",
        "    x2 = m*x1 + c\n",
        "\n",
        "    # plotting the decision boundary\n",
        "    fig = plt.figure(figsize=(10,8))\n",
        "    plt.plot(X[:, 0][y == 0], X[:, 1][y == 0], 'r^')\n",
        "    plt.plot(X[:, 0][y == 1], X[:, 1][y == 1], 'bs')\n",
        "    plt.xlabel(\"feature 1\")\n",
        "    plt.ylabel(\"feature 2\")\n",
        "    plt.title('Perceptron Algorithm')\n",
        "\n",
        "    plt.plot(x1,x2,'y-')\n",
        "    plt.show()\n",
        ""
      ]
    },
    {
      "cell_type": "code",
      "execution_count": null,
      "metadata": {
        "id": "gB3TSk69Tfr4",
        "outputId": "f04ea531-ece8-4b7c-8f27-058dd9446922"
      },
      "outputs": [
        {
          "data": {
            "image/png": "[encoded data removed]",
            "text/plain": [
              "<Figure size 720x576 with 1 Axes>"
            ]
          },
          "metadata": {
            "needs_background": "light"
          },
          "output_type": "display_data"
        }
      ],
      "source": [
        "theta, n_miss_list = perceptron(X,y,lr=0.01,n_epochs=50)\n",
        "plot_decision_boundary(X,theta)"
      ]
    },
    {
      "cell_type": "code",
      "execution_count": null,
      "metadata": {
        "id": "wOcgLP0KTfr4"
      },
      "outputs": [],
      "source": []
    }
  ],
  "metadata": {
    "interpreter": {
      "hash": "a65d8f67d09b4ab847b5c538330978b4976ad7f006df7e5ad1ae57be3517caf4"
    },
    "kernelspec": {
      "display_name": "Python 3.9.5 64-bit",
      "language": "python",
      "name": "python3"
    },
    "language_info": {
      "codemirror_mode": {
        "name": "ipython",
        "version": 3
      },
      "file_extension": ".py",
      "mimetype": "text/x-python",
      "name": "python",
      "nbconvert_exporter": "python",
      "pygments_lexer": "ipython3",
      "version": "3.9.5"
    },
    "orig_nbformat": 4,
    "colab": {
      "provenance": []
    }
  },
  "nbformat": 4,
  "nbformat_minor": 0
}